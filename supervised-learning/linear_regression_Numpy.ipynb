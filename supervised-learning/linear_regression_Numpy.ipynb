{
  "nbformat": 4,
  "nbformat_minor": 0,
  "metadata": {
    "colab": {
      "name": "linear-regression-Numpy",
      "provenance": []
    },
    "kernelspec": {
      "name": "python3",
      "display_name": "Python 3"
    }
  },
  "cells": [
    {
      "cell_type": "markdown",
      "metadata": {
        "id": "PQuQxK-ETS69",
        "colab_type": "text"
      },
      "source": [
        "# Univariate Linear Regression using Numpy"
      ]
    },
    {
      "cell_type": "code",
      "metadata": {
        "id": "wRtgU_sQL_BB",
        "colab_type": "code",
        "colab": {}
      },
      "source": [
        "import numpy as np\n",
        "import pandas as pd\n",
        "import matplotlib.pyplot as plt\n",
        "from sklearn.datasets import load_boston"
      ],
      "execution_count": 0,
      "outputs": []
    },
    {
      "cell_type": "markdown",
      "metadata": {
        "id": "ZdfEQuE8VOhs",
        "colab_type": "text"
      },
      "source": [
        "## Load the dataset"
      ]
    },
    {
      "cell_type": "code",
      "metadata": {
        "id": "_iSI4mFaVXJo",
        "colab_type": "code",
        "outputId": "9fdbc3a2-d565-4c25-c377-57b3655dd680",
        "colab": {
          "base_uri": "https://localhost:8080/",
          "height": 1000
        }
      },
      "source": [
        "dataset = load_boston()\n",
        "print(dataset['DESCR'])"
      ],
      "execution_count": 2,
      "outputs": [
        {
          "output_type": "stream",
          "text": [
            ".. _boston_dataset:\n",
            "\n",
            "Boston house prices dataset\n",
            "---------------------------\n",
            "\n",
            "**Data Set Characteristics:**  \n",
            "\n",
            "    :Number of Instances: 506 \n",
            "\n",
            "    :Number of Attributes: 13 numeric/categorical predictive. Median Value (attribute 14) is usually the target.\n",
            "\n",
            "    :Attribute Information (in order):\n",
            "        - CRIM     per capita crime rate by town\n",
            "        - ZN       proportion of residential land zoned for lots over 25,000 sq.ft.\n",
            "        - INDUS    proportion of non-retail business acres per town\n",
            "        - CHAS     Charles River dummy variable (= 1 if tract bounds river; 0 otherwise)\n",
            "        - NOX      nitric oxides concentration (parts per 10 million)\n",
            "        - RM       average number of rooms per dwelling\n",
            "        - AGE      proportion of owner-occupied units built prior to 1940\n",
            "        - DIS      weighted distances to five Boston employment centres\n",
            "        - RAD      index of accessibility to radial highways\n",
            "        - TAX      full-value property-tax rate per $10,000\n",
            "        - PTRATIO  pupil-teacher ratio by town\n",
            "        - B        1000(Bk - 0.63)^2 where Bk is the proportion of blacks by town\n",
            "        - LSTAT    % lower status of the population\n",
            "        - MEDV     Median value of owner-occupied homes in $1000's\n",
            "\n",
            "    :Missing Attribute Values: None\n",
            "\n",
            "    :Creator: Harrison, D. and Rubinfeld, D.L.\n",
            "\n",
            "This is a copy of UCI ML housing dataset.\n",
            "https://archive.ics.uci.edu/ml/machine-learning-databases/housing/\n",
            "\n",
            "\n",
            "This dataset was taken from the StatLib library which is maintained at Carnegie Mellon University.\n",
            "\n",
            "The Boston house-price data of Harrison, D. and Rubinfeld, D.L. 'Hedonic\n",
            "prices and the demand for clean air', J. Environ. Economics & Management,\n",
            "vol.5, 81-102, 1978.   Used in Belsley, Kuh & Welsch, 'Regression diagnostics\n",
            "...', Wiley, 1980.   N.B. Various transformations are used in the table on\n",
            "pages 244-261 of the latter.\n",
            "\n",
            "The Boston house-price data has been used in many machine learning papers that address regression\n",
            "problems.   \n",
            "     \n",
            ".. topic:: References\n",
            "\n",
            "   - Belsley, Kuh & Welsch, 'Regression diagnostics: Identifying Influential Data and Sources of Collinearity', Wiley, 1980. 244-261.\n",
            "   - Quinlan,R. (1993). Combining Instance-Based and Model-Based Learning. In Proceedings on the Tenth International Conference of Machine Learning, 236-243, University of Massachusetts, Amherst. Morgan Kaufmann.\n",
            "\n"
          ],
          "name": "stdout"
        }
      ]
    },
    {
      "cell_type": "code",
      "metadata": {
        "id": "qBIfjM4sMGgp",
        "colab_type": "code",
        "colab": {}
      },
      "source": [
        "features = dataset.data\n",
        "y = dataset.target[:,np.newaxis] \n",
        "\n",
        "# np.newaxis increases the dimension of the existing array which in this\n",
        "# context transforms `y` from a 1-dimensional array to 2-dimensional array"
      ],
      "execution_count": 0,
      "outputs": []
    },
    {
      "cell_type": "markdown",
      "metadata": {
        "id": "G0Vd22vMfUSh",
        "colab_type": "text"
      },
      "source": [
        "## Visualizing the Dataset"
      ]
    },
    {
      "cell_type": "markdown",
      "metadata": {
        "id": "GCGdIEjughTg",
        "colab_type": "text"
      },
      "source": [
        "### CRIM - per capita crime rate by town"
      ]
    },
    {
      "cell_type": "code",
      "metadata": {
        "id": "hDBfJTOzcQLE",
        "colab_type": "code",
        "outputId": "bab84e4d-ab51-42ca-a968-ceca26284d4d",
        "colab": {
          "base_uri": "https://localhost:8080/",
          "height": 284
        }
      },
      "source": [
        "CRIM = features[:,0]\n",
        "plt.scatter(CRIM,y)"
      ],
      "execution_count": 4,
      "outputs": [
        {
          "output_type": "execute_result",
          "data": {
            "text/plain": [
              "<matplotlib.collections.PathCollection at 0x7f4298967710>"
            ]
          },
          "metadata": {
            "tags": []
          },
          "execution_count": 4
        },
        {
          "output_type": "display_data",
          "data": {
            "image/png": "[encoded data removed]",
            "text/plain": [
              "<Figure size 432x288 with 1 Axes>"
            ]
          },
          "metadata": {
            "tags": [],
            "needs_background": "light"
          }
        }
      ]
    },
    {
      "cell_type": "markdown",
      "metadata": {
        "id": "XUPTtCNtgoAN",
        "colab_type": "text"
      },
      "source": [
        "### ZN - proportion of residential land zoned for lots over 25,000 sq.ft"
      ]
    },
    {
      "cell_type": "code",
      "metadata": {
        "id": "A2l16y4xfNER",
        "colab_type": "code",
        "outputId": "d1000759-2761-4d4a-ff1d-e389be59b659",
        "colab": {
          "base_uri": "https://localhost:8080/",
          "height": 284
        }
      },
      "source": [
        "ZN = features[:,1] \n",
        "plt.scatter(ZN,y)"
      ],
      "execution_count": 5,
      "outputs": [
        {
          "output_type": "execute_result",
          "data": {
            "text/plain": [
              "<matplotlib.collections.PathCollection at 0x7f4295cbf160>"
            ]
          },
          "metadata": {
            "tags": []
          },
          "execution_count": 5
        },
        {
          "output_type": "display_data",
          "data": {
            "image/png": "[encoded data removed]",
            "text/plain": [
              "<Figure size 432x288 with 1 Axes>"
            ]
          },
          "metadata": {
            "tags": [],
            "needs_background": "light"
          }
        }
      ]
    },
    {
      "cell_type": "markdown",
      "metadata": {
        "id": "QE6_V0ZAi0Td",
        "colab_type": "text"
      },
      "source": [
        "### INDUS - proportion of non-retail business acres per town"
      ]
    },
    {
      "cell_type": "code",
      "metadata": {
        "id": "0PqSCjr2hf70",
        "colab_type": "code",
        "outputId": "003b7dc7-ccbe-4c79-fe41-99e41c010524",
        "colab": {
          "base_uri": "https://localhost:8080/",
          "height": 284
        }
      },
      "source": [
        "INDUS = features[:,2] \n",
        "plt.scatter(INDUS,y)"
      ],
      "execution_count": 6,
      "outputs": [
        {
          "output_type": "execute_result",
          "data": {
            "text/plain": [
              "<matplotlib.collections.PathCollection at 0x7f4295c280f0>"
            ]
          },
          "metadata": {
            "tags": []
          },
          "execution_count": 6
        },
        {
          "output_type": "display_data",
          "data": {
            "image/png": "[encoded data removed]",
            "text/plain": [
              "<Figure size 432x288 with 1 Axes>"
            ]
          },
          "metadata": {
            "tags": [],
            "needs_background": "light"
          }
        }
      ]
    },
    {
      "cell_type": "markdown",
      "metadata": {
        "id": "u0PJC1N8kKig",
        "colab_type": "text"
      },
      "source": [
        "### CHAS - Charles River dummy variable"
      ]
    },
    {
      "cell_type": "code",
      "metadata": {
        "id": "S8ANkinfi6MZ",
        "colab_type": "code",
        "outputId": "c3efc489-badd-4f5a-da99-563f53b65343",
        "colab": {
          "base_uri": "https://localhost:8080/",
          "height": 284
        }
      },
      "source": [
        "CHAS = features[:,3] \n",
        "plt.scatter(CHAS,y)"
      ],
      "execution_count": 7,
      "outputs": [
        {
          "output_type": "execute_result",
          "data": {
            "text/plain": [
              "<matplotlib.collections.PathCollection at 0x7f4295bfed30>"
            ]
          },
          "metadata": {
            "tags": []
          },
          "execution_count": 7
        },
        {
          "output_type": "display_data",
          "data": {
            "image/png": "[encoded data removed]",
            "text/plain": [
              "<Figure size 432x288 with 1 Axes>"
            ]
          },
          "metadata": {
            "tags": [],
            "needs_background": "light"
          }
        }
      ]
    },
    {
      "cell_type": "markdown",
      "metadata": {
        "id": "UKXx8r2mlela",
        "colab_type": "text"
      },
      "source": [
        "### NOX - nitric oxides concentration (parts per 10 million)"
      ]
    },
    {
      "cell_type": "code",
      "metadata": {
        "id": "fi4k2sJJllYu",
        "colab_type": "code",
        "outputId": "a5c2e2cd-fef4-49e9-95f7-13e4e1f4aed4",
        "colab": {
          "base_uri": "https://localhost:8080/",
          "height": 284
        }
      },
      "source": [
        "NOX = features[:,4] \n",
        "plt.scatter(NOX,y)"
      ],
      "execution_count": 8,
      "outputs": [
        {
          "output_type": "execute_result",
          "data": {
            "text/plain": [
              "<matplotlib.collections.PathCollection at 0x7f4295b5d898>"
            ]
          },
          "metadata": {
            "tags": []
          },
          "execution_count": 8
        },
        {
          "output_type": "display_data",
          "data": {
            "image/png": "[encoded data removed]",
            "text/plain": [
              "<Figure size 432x288 with 1 Axes>"
            ]
          },
          "metadata": {
            "tags": [],
            "needs_background": "light"
          }
        }
      ]
    },
    {
      "cell_type": "markdown",
      "metadata": {
        "id": "Pk3yqz-6lr4k",
        "colab_type": "text"
      },
      "source": [
        "### RM - average number of rooms per dwelling"
      ]
    },
    {
      "cell_type": "code",
      "metadata": {
        "id": "yp59-LjolpSL",
        "colab_type": "code",
        "outputId": "57983813-13de-481c-ab14-4a1a7af7312f",
        "colab": {
          "base_uri": "https://localhost:8080/",
          "height": 284
        }
      },
      "source": [
        "RM = features[:,5] \n",
        "plt.scatter(RM,y)"
      ],
      "execution_count": 9,
      "outputs": [
        {
          "output_type": "execute_result",
          "data": {
            "text/plain": [
              "<matplotlib.collections.PathCollection at 0x7f4295b34d30>"
            ]
          },
          "metadata": {
            "tags": []
          },
          "execution_count": 9
        },
        {
          "output_type": "display_data",
          "data": {
            "image/png": "[encoded data removed]",
            "text/plain": [
              "<Figure size 432x288 with 1 Axes>"
            ]
          },
          "metadata": {
            "tags": [],
            "needs_background": "light"
          }
        }
      ]
    },
    {
      "cell_type": "markdown",
      "metadata": {
        "id": "fd0sTCrGlslP",
        "colab_type": "text"
      },
      "source": [
        "### AGE - proportion of owner-occupied units built prior to 1940"
      ]
    },
    {
      "cell_type": "code",
      "metadata": {
        "id": "Mb-Yz2VPmMzI",
        "colab_type": "code",
        "outputId": "f1b7f9f2-c358-4f64-fcd5-9652b363c752",
        "colab": {
          "base_uri": "https://localhost:8080/",
          "height": 284
        }
      },
      "source": [
        "AGE = features[:,6] \n",
        "plt.scatter(AGE,y)"
      ],
      "execution_count": 10,
      "outputs": [
        {
          "output_type": "execute_result",
          "data": {
            "text/plain": [
              "<matplotlib.collections.PathCollection at 0x7f4295a98710>"
            ]
          },
          "metadata": {
            "tags": []
          },
          "execution_count": 10
        },
        {
          "output_type": "display_data",
          "data": {
            "image/png": "[encoded data removed]",
            "text/plain": [
              "<Figure size 432x288 with 1 Axes>"
            ]
          },
          "metadata": {
            "tags": [],
            "needs_background": "light"
          }
        }
      ]
    },
    {
      "cell_type": "markdown",
      "metadata": {
        "id": "epgxT74HmOdh",
        "colab_type": "text"
      },
      "source": [
        "### DIS - weighted distances to five Boston employment centres"
      ]
    },
    {
      "cell_type": "code",
      "metadata": {
        "id": "CSR7tPuamYEW",
        "colab_type": "code",
        "outputId": "31d29cd7-fed6-4352-f744-7a2db1b92e98",
        "colab": {
          "base_uri": "https://localhost:8080/",
          "height": 284
        }
      },
      "source": [
        "DIS = features[:,7] \n",
        "plt.scatter(DIS,y)"
      ],
      "execution_count": 11,
      "outputs": [
        {
          "output_type": "execute_result",
          "data": {
            "text/plain": [
              "<matplotlib.collections.PathCollection at 0x7f4295a7a208>"
            ]
          },
          "metadata": {
            "tags": []
          },
          "execution_count": 11
        },
        {
          "output_type": "display_data",
          "data": {
            "image/png": "[encoded data removed]",
            "text/plain": [
              "<Figure size 432x288 with 1 Axes>"
            ]
          },
          "metadata": {
            "tags": [],
            "needs_background": "light"
          }
        }
      ]
    },
    {
      "cell_type": "markdown",
      "metadata": {
        "id": "68sxd3KzmYSt",
        "colab_type": "text"
      },
      "source": [
        "### RAD - index of accessibility to radial highways"
      ]
    },
    {
      "cell_type": "code",
      "metadata": {
        "id": "5H2BhKDfEisw",
        "colab_type": "code",
        "outputId": "5646085d-04df-4d23-82b3-6d2d5abef834",
        "colab": {
          "base_uri": "https://localhost:8080/",
          "height": 284
        }
      },
      "source": [
        "RAD = features[:,8] \n",
        "plt.scatter(RAD,y)"
      ],
      "execution_count": 12,
      "outputs": [
        {
          "output_type": "execute_result",
          "data": {
            "text/plain": [
              "<matplotlib.collections.PathCollection at 0x7f4295a4fc18>"
            ]
          },
          "metadata": {
            "tags": []
          },
          "execution_count": 12
        },
        {
          "output_type": "display_data",
          "data": {
            "image/png": "[encoded data removed]",
            "text/plain": [
              "<Figure size 432x288 with 1 Axes>"
            ]
          },
          "metadata": {
            "tags": [],
            "needs_background": "light"
          }
        }
      ]
    },
    {
      "cell_type": "markdown",
      "metadata": {
        "id": "KzH5HycVEjCr",
        "colab_type": "text"
      },
      "source": [
        "### TAX - full-value property-tax rate per $10,000"
      ]
    },
    {
      "cell_type": "code",
      "metadata": {
        "id": "MfVx-sSxFCPp",
        "colab_type": "code",
        "outputId": "5b48deed-3c34-43da-ce87-6ae8f0b0e315",
        "colab": {
          "base_uri": "https://localhost:8080/",
          "height": 284
        }
      },
      "source": [
        "TAX = features[:,9] \n",
        "plt.scatter(TAX,y)"
      ],
      "execution_count": 13,
      "outputs": [
        {
          "output_type": "execute_result",
          "data": {
            "text/plain": [
              "<matplotlib.collections.PathCollection at 0x7f42959a83c8>"
            ]
          },
          "metadata": {
            "tags": []
          },
          "execution_count": 13
        },
        {
          "output_type": "display_data",
          "data": {
            "image/png": "[encoded data removed]",
            "text/plain": [
              "<Figure size 432x288 with 1 Axes>"
            ]
          },
          "metadata": {
            "tags": [],
            "needs_background": "light"
          }
        }
      ]
    },
    {
      "cell_type": "markdown",
      "metadata": {
        "id": "8N1HAp3uEjQV",
        "colab_type": "text"
      },
      "source": [
        "### PTRATIO - pupil-teacher ratio by town"
      ]
    },
    {
      "cell_type": "code",
      "metadata": {
        "id": "eaKV0s3MFFt6",
        "colab_type": "code",
        "outputId": "bdf98591-8007-4a0b-ab6d-c2944ca497b1",
        "colab": {
          "base_uri": "https://localhost:8080/",
          "height": 284
        }
      },
      "source": [
        "PTRATIO = features[:,10] \n",
        "plt.scatter(PTRATIO,y)"
      ],
      "execution_count": 14,
      "outputs": [
        {
          "output_type": "execute_result",
          "data": {
            "text/plain": [
              "<matplotlib.collections.PathCollection at 0x7f4295994240>"
            ]
          },
          "metadata": {
            "tags": []
          },
          "execution_count": 14
        },
        {
          "output_type": "display_data",
          "data": {
            "image/png": "[encoded data removed]",
            "text/plain": [
              "<Figure size 432x288 with 1 Axes>"
            ]
          },
          "metadata": {
            "tags": [],
            "needs_background": "light"
          }
        }
      ]
    },
    {
      "cell_type": "markdown",
      "metadata": {
        "id": "gt8i5w6iEjXu",
        "colab_type": "text"
      },
      "source": [
        "### B - 1000(Bk - 0.63)^2 where Bk is the proportion of blacks by town"
      ]
    },
    {
      "cell_type": "code",
      "metadata": {
        "id": "DGDaTEX9FKLj",
        "colab_type": "code",
        "outputId": "985f9064-5b78-460f-b34c-d72fb551e35e",
        "colab": {
          "base_uri": "https://localhost:8080/",
          "height": 284
        }
      },
      "source": [
        "B = features[:,11] \n",
        "plt.scatter(B,y)"
      ],
      "execution_count": 15,
      "outputs": [
        {
          "output_type": "execute_result",
          "data": {
            "text/plain": [
              "<matplotlib.collections.PathCollection at 0x7f42958eb6d8>"
            ]
          },
          "metadata": {
            "tags": []
          },
          "execution_count": 15
        },
        {
          "output_type": "display_data",
          "data": {
            "image/png": "[encoded data removed]",
            "text/plain": [
              "<Figure size 432x288 with 1 Axes>"
            ]
          },
          "metadata": {
            "tags": [],
            "needs_background": "light"
          }
        }
      ]
    },
    {
      "cell_type": "markdown",
      "metadata": {
        "id": "rNPXm1zAEjh6",
        "colab_type": "text"
      },
      "source": [
        "### LSTAT - % lower status of the population"
      ]
    },
    {
      "cell_type": "code",
      "metadata": {
        "id": "4UierWPZEzI2",
        "colab_type": "code",
        "outputId": "140dd5df-ea15-410a-e602-64cffc0cfc5c",
        "colab": {
          "base_uri": "https://localhost:8080/",
          "height": 284
        }
      },
      "source": [
        "LSTAT = features[:,12] \n",
        "plt.scatter(LSTAT,y)"
      ],
      "execution_count": 16,
      "outputs": [
        {
          "output_type": "execute_result",
          "data": {
            "text/plain": [
              "<matplotlib.collections.PathCollection at 0x7f42958d2518>"
            ]
          },
          "metadata": {
            "tags": []
          },
          "execution_count": 16
        },
        {
          "output_type": "display_data",
          "data": {
            "image/png": "[encoded data removed]",
            "text/plain": [
              "<Figure size 432x288 with 1 Axes>"
            ]
          },
          "metadata": {
            "tags": [],
            "needs_background": "light"
          }
        }
      ]
    },
    {
      "cell_type": "markdown",
      "metadata": {
        "id": "deC0KA3XdxBg",
        "colab_type": "text"
      },
      "source": [
        "## Modelling\n"
      ]
    },
    {
      "cell_type": "markdown",
      "metadata": {
        "id": "AFGn5qOdCbiy",
        "colab_type": "text"
      },
      "source": [
        "### Hypothesis\n",
        "\n"
      ]
    },
    {
      "cell_type": "markdown",
      "metadata": {
        "id": "G6i3XV5iP6AK",
        "colab_type": "text"
      },
      "source": [
        "**Hypothesis** is a function that takes the input features $X$ and outputs a prediction or an estimated value of $y.$ We used a linear function expressed as \n",
        "\n",
        "$h(x) = \\theta_0 + \\theta_1x$ \n",
        "\n",
        "because we only have one feature to fit a function where $\\theta_0$ is the bias, $\\theta_1$ is the weights, and $x$ is the input features.\n",
        "\n",
        "With knowledge of linear algebra, we can simplify the expression above as \n",
        "\n",
        "$h = X\\cdot\\theta$\n",
        "\n",
        "to use matrix operations."
      ]
    },
    {
      "cell_type": "markdown",
      "metadata": {
        "id": "kEbciaTQUFSr",
        "colab_type": "text"
      },
      "source": [
        "To do so we must create a matrix $X$ where in the first column consists of `np.ones` and the second column consists of the features RM or the average number of rooms per dwelling."
      ]
    },
    {
      "cell_type": "code",
      "metadata": {
        "id": "nI0LFvLTZHsV",
        "colab_type": "code",
        "colab": {
          "base_uri": "https://localhost:8080/",
          "height": 152
        },
        "outputId": "543df55e-55d4-40e4-c359-ea76b106346b"
      },
      "source": [
        "X = np.ones((RM.shape[0],2))\n",
        "X[:,1:] = RM[:,np.newaxis]\n",
        "X"
      ],
      "execution_count": 17,
      "outputs": [
        {
          "output_type": "execute_result",
          "data": {
            "text/plain": [
              "array([[1.   , 6.575],\n",
              "       [1.   , 6.421],\n",
              "       [1.   , 7.185],\n",
              "       ...,\n",
              "       [1.   , 6.976],\n",
              "       [1.   , 6.794],\n",
              "       [1.   , 6.03 ]])"
            ]
          },
          "metadata": {
            "tags": []
          },
          "execution_count": 17
        }
      ]
    },
    {
      "cell_type": "code",
      "metadata": {
        "id": "ZWLrC0UHWPL2",
        "colab_type": "code",
        "colab": {
          "base_uri": "https://localhost:8080/",
          "height": 56
        },
        "outputId": "c179f650-ae28-4448-8cc4-b3ff4f7f09d7"
      },
      "source": [
        "# Creates an array with two columns, replace the 2nd column with the features\n",
        "%timeit X = np.ones((RM.shape[0],2)) ; X[:,1:] = RM[:,np.newaxis] "
      ],
      "execution_count": 18,
      "outputs": [
        {
          "output_type": "stream",
          "text": [
            "The slowest run took 107.29 times longer than the fastest. This could mean that an intermediate result is being cached.\n",
            "100000 loops, best of 3: 4.65 µs per loop\n"
          ],
          "name": "stdout"
        }
      ]
    },
    {
      "cell_type": "code",
      "metadata": {
        "id": "qD08seSSeBEM",
        "colab_type": "code",
        "outputId": "0b5c79d7-b05c-43e0-e83e-e25e959f0ba0",
        "colab": {
          "base_uri": "https://localhost:8080/",
          "height": 56
        }
      },
      "source": [
        "# Append two arrays column wise\n",
        "%timeit X = np.hstack((np.ones((RM.shape[0],1)), RM[:,np.newaxis]))"
      ],
      "execution_count": 19,
      "outputs": [
        {
          "output_type": "stream",
          "text": [
            "The slowest run took 14.52 times longer than the fastest. This could mean that an intermediate result is being cached.\n",
            "100000 loops, best of 3: 9.22 µs per loop\n"
          ],
          "name": "stdout"
        }
      ]
    },
    {
      "cell_type": "code",
      "metadata": {
        "id": "SKu77MItG90n",
        "colab_type": "code",
        "outputId": "65b05a56-ac9b-408f-a939-e4c4c0a10b28",
        "colab": {
          "base_uri": "https://localhost:8080/",
          "height": 56
        }
      },
      "source": [
        "# Append two arrays row wise\n",
        "%timeit X = np.c_[np.ones((RM.shape[0])), RM]"
      ],
      "execution_count": 20,
      "outputs": [
        {
          "output_type": "stream",
          "text": [
            "The slowest run took 8.90 times longer than the fastest. This could mean that an intermediate result is being cached.\n",
            "10000 loops, best of 3: 25.6 µs per loop\n"
          ],
          "name": "stdout"
        }
      ]
    },
    {
      "cell_type": "markdown",
      "metadata": {
        "id": "RGNv1pXeXwKr",
        "colab_type": "text"
      },
      "source": [
        "Now we need to set random values for $\\theta$."
      ]
    },
    {
      "cell_type": "code",
      "metadata": {
        "id": "xc7ld_ULHcEh",
        "colab_type": "code",
        "colab": {}
      },
      "source": [
        "theta = np.random.randn(2)\n",
        "theta = theta[:,np.newaxis]"
      ],
      "execution_count": 0,
      "outputs": []
    },
    {
      "cell_type": "code",
      "metadata": {
        "id": "ccwoe6jsai1T",
        "colab_type": "code",
        "colab": {
          "base_uri": "https://localhost:8080/",
          "height": 36
        },
        "outputId": "efb588f2-4b14-424d-b235-1949f74be023"
      },
      "source": [
        "print(X.shape, theta.shape)"
      ],
      "execution_count": 22,
      "outputs": [
        {
          "output_type": "stream",
          "text": [
            "(506, 2) (2, 1)\n"
          ],
          "name": "stdout"
        }
      ]
    },
    {
      "cell_type": "markdown",
      "metadata": {
        "id": "QmWckVAHX_UK",
        "colab_type": "text"
      },
      "source": [
        "Create the hypothesis function as a method"
      ]
    },
    {
      "cell_type": "code",
      "metadata": {
        "id": "v0iVTX5pXHCU",
        "colab_type": "code",
        "colab": {}
      },
      "source": [
        "def hypothesis(X,theta):\n",
        "  return X @ theta"
      ],
      "execution_count": 0,
      "outputs": []
    },
    {
      "cell_type": "code",
      "metadata": {
        "id": "Ki_7lyjgXNB4",
        "colab_type": "code",
        "colab": {
          "base_uri": "https://localhost:8080/",
          "height": 56
        },
        "outputId": "80a7ac44-1033-415d-c671-ed9b65cbee3f"
      },
      "source": [
        "%timeit X @ theta"
      ],
      "execution_count": 27,
      "outputs": [
        {
          "output_type": "stream",
          "text": [
            "The slowest run took 306.10 times longer than the fastest. This could mean that an intermediate result is being cached.\n",
            "100000 loops, best of 3: 1.99 µs per loop\n"
          ],
          "name": "stdout"
        }
      ]
    },
    {
      "cell_type": "code",
      "metadata": {
        "id": "KOySXm8-dnPp",
        "colab_type": "code",
        "colab": {
          "base_uri": "https://localhost:8080/",
          "height": 56
        },
        "outputId": "50b3d678-c448-467c-b4af-6c917a6f5d01"
      },
      "source": [
        "%timeit np.matmul(X,theta)"
      ],
      "execution_count": 28,
      "outputs": [
        {
          "output_type": "stream",
          "text": [
            "The slowest run took 108.57 times longer than the fastest. This could mean that an intermediate result is being cached.\n",
            "100000 loops, best of 3: 2.11 µs per loop\n"
          ],
          "name": "stdout"
        }
      ]
    },
    {
      "cell_type": "code",
      "metadata": {
        "id": "ul9NuLTSa8pd",
        "colab_type": "code",
        "colab": {
          "base_uri": "https://localhost:8080/",
          "height": 56
        },
        "outputId": "bc736998-85ca-42a2-85f1-b8e913edfcb1"
      },
      "source": [
        "%timeit np.dot(X,theta)"
      ],
      "execution_count": 29,
      "outputs": [
        {
          "output_type": "stream",
          "text": [
            "The slowest run took 27.14 times longer than the fastest. This could mean that an intermediate result is being cached.\n",
            "1000000 loops, best of 3: 1.93 µs per loop\n"
          ],
          "name": "stdout"
        }
      ]
    },
    {
      "cell_type": "markdown",
      "metadata": {
        "id": "6XDynsxbgfoQ",
        "colab_type": "text"
      },
      "source": [
        "![alt text](https://i.stack.imgur.com/UvIqj.png)"
      ]
    },
    {
      "cell_type": "markdown",
      "metadata": {
        "id": "oITyIR8Cg3cn",
        "colab_type": "text"
      },
      "source": [
        "### Cost Function"
      ]
    },
    {
      "cell_type": "markdown",
      "metadata": {
        "id": "e_vtlIpYmOUN",
        "colab_type": "text"
      },
      "source": [
        "This function measures the performance of the model. In univariate linear regression, the function is expressed as\n",
        "\n",
        "$ J(\\theta_0,\\theta_1) = \\frac{1}{m}\\displaystyle\\sum_{i = 1}^{m}(y_i-\\hat{y_i})^2 $\n",
        "\n",
        "or also known as the Mean Squared Error (MSE).\n",
        "\n",
        "Breaking down the equation:  \n",
        "\n",
        "1.   $\\hat{y} \\longrightarrow$ output of the hypothesis $h(x)$ (purple dots)\n",
        "2.   $y \\longrightarrow$ the labels (point that sits on the line)\n",
        "3.   $(y_i-\\hat{y_i})^2 \\longrightarrow$ For each point, subtract the hypothesis from the labels and square its result. \n",
        "4.   $\\frac{1}{m}\\displaystyle\\sum_{i = 1}^{m}(y_i-\\hat{y_i})^2 \\longrightarrow$ Find the sum for each squared difference and divide it by the total number of examples.\n",
        "\n",
        "\n",
        "\n",
        "\n",
        "\n",
        "\n",
        "\n",
        "![alt text](https://cdn-media-1.freecodecamp.org/images/MNskFmGPKuQfMLdmpkT-X7-8w2cJXulP3683)"
      ]
    },
    {
      "cell_type": "code",
      "metadata": {
        "id": "LnKVFuSSvUx3",
        "colab_type": "code",
        "colab": {}
      },
      "source": [
        "def cost_function(X,y,theta):\n",
        "  return sum(np.square((y - hypothesis(X,theta))))/len(X)"
      ],
      "execution_count": 0,
      "outputs": []
    },
    {
      "cell_type": "code",
      "metadata": {
        "id": "aHi4mR67vsz7",
        "colab_type": "code",
        "colab": {
          "base_uri": "https://localhost:8080/",
          "height": 36
        },
        "outputId": "51467bf0-5655-4ee0-e07c-8c48822f4f08"
      },
      "source": [
        "test = cost_function(X,y,theta)\n",
        "print(test)"
      ],
      "execution_count": 31,
      "outputs": [
        {
          "output_type": "stream",
          "text": [
            "[496.36707849]\n"
          ],
          "name": "stdout"
        }
      ]
    },
    {
      "cell_type": "markdown",
      "metadata": {
        "id": "SnsqUcfuwUiK",
        "colab_type": "text"
      },
      "source": [
        "Compare different versions of the squared difference. The difference in efficiency is minimal as shown below. However, in this case we use `np.square()` for slightly better performance and for using only a power raised to 2."
      ]
    },
    {
      "cell_type": "code",
      "metadata": {
        "id": "vY_nqQzdlr_s",
        "colab_type": "code",
        "colab": {
          "base_uri": "https://localhost:8080/",
          "height": 56
        },
        "outputId": "3aa386a1-8d34-4dd2-fe0d-ea1522d23714"
      },
      "source": [
        "# Use double asterisk (**) for squaring \n",
        "def cost_function(X,y,theta):\n",
        "  return sum((y - hypothesis(X,theta))**2)/len(X)\n",
        "\n",
        "%timeit test = cost_function(X,y,theta)\n",
        "test"
      ],
      "execution_count": 32,
      "outputs": [
        {
          "output_type": "stream",
          "text": [
            "1000 loops, best of 3: 347 µs per loop\n"
          ],
          "name": "stdout"
        },
        {
          "output_type": "execute_result",
          "data": {
            "text/plain": [
              "array([496.36707849])"
            ]
          },
          "metadata": {
            "tags": []
          },
          "execution_count": 32
        }
      ]
    },
    {
      "cell_type": "code",
      "metadata": {
        "id": "jpb_hNpVrMhH",
        "colab_type": "code",
        "colab": {
          "base_uri": "https://localhost:8080/",
          "height": 56
        },
        "outputId": "0af72f3f-6e18-4574-c6d1-96bae3a5d30c"
      },
      "source": [
        "# Use np.power()\n",
        "def cost_function(X,y,theta):\n",
        "  return sum(np.power((y - hypothesis(X,theta)),2))/len(X)\n",
        "\n",
        "%timeit test = cost_function(X,y,theta)\n",
        "test"
      ],
      "execution_count": 33,
      "outputs": [
        {
          "output_type": "stream",
          "text": [
            "1000 loops, best of 3: 349 µs per loop\n"
          ],
          "name": "stdout"
        },
        {
          "output_type": "execute_result",
          "data": {
            "text/plain": [
              "array([496.36707849])"
            ]
          },
          "metadata": {
            "tags": []
          },
          "execution_count": 33
        }
      ]
    },
    {
      "cell_type": "code",
      "metadata": {
        "id": "1_10wieBrNJL",
        "colab_type": "code",
        "colab": {
          "base_uri": "https://localhost:8080/",
          "height": 56
        },
        "outputId": "45a6be0c-0fd4-4386-e3a8-9fbf52185adc"
      },
      "source": [
        "# Use np.square()\n",
        "def cost_function(X,y,theta):\n",
        "  return sum(np.square((y - hypothesis(X,theta))))/len(X)\n",
        "\n",
        "%timeit test = cost_function(X,y,theta)\n",
        "test"
      ],
      "execution_count": 34,
      "outputs": [
        {
          "output_type": "stream",
          "text": [
            "1000 loops, best of 3: 352 µs per loop\n"
          ],
          "name": "stdout"
        },
        {
          "output_type": "execute_result",
          "data": {
            "text/plain": [
              "array([496.36707849])"
            ]
          },
          "metadata": {
            "tags": []
          },
          "execution_count": 34
        }
      ]
    },
    {
      "cell_type": "markdown",
      "metadata": {
        "id": "0EXGFxY6zgE4",
        "colab_type": "text"
      },
      "source": [
        "### Gradient Descent\n",
        "\n",
        "Recall the cost function\n",
        "\n",
        " $ J(\\theta_0,\\theta_1) = \\frac{1}{m}\\displaystyle\\sum_{i = 1}^{m}(y_i-\\hat{y_i})^2 $\n",
        "\n",
        " we need to expand it in order to see what steps must be followed in order to conduct the gradient descent.\n",
        "\n",
        " $ J(\\theta_0,\\theta_1) = \\frac{1}{m}\\displaystyle\\sum_{i = 1}^{m}(y_i-(\\theta_0 + \\theta_1x_i))^2 $\n",
        "\n",
        " To get the partial derivative of both $\\theta_0$ and $\\theta_1$, we use the chain rule.\n",
        "\n",
        " $\\frac{\\partial J}{\\partial \\theta_0} = \\frac{2}{m}\\displaystyle\\sum_{i = 1}^{m}-(y_i-(\\theta_0 + \\theta_1x_i))$\n",
        "\n",
        "  $\\frac{\\partial J}{\\partial \\theta_1} = \\frac{2}{m}\\displaystyle\\sum_{i = 1}^{m}-x\\cdot(y_i-(\\theta_0 + \\theta_1x_i))$"
      ]
    },
    {
      "cell_type": "code",
      "metadata": {
        "id": "KpPygZMRzidm",
        "colab_type": "code",
        "colab": {}
      },
      "source": [
        "def gradient_descent(X,y,theta,alpha,iterations):\n",
        "  for i in range(iterations):\n",
        "    predictions = hypothesis(X,theta)\n",
        "    theta = theta - (alpha/len(X))*(-X.T.dot(y-predictions))\n",
        "\n",
        "    if i % 50 == 0:\n",
        "      print(f'Error in {i}th iteration: {cost_function(X,y,theta)}')"
      ],
      "execution_count": 0,
      "outputs": []
    },
    {
      "cell_type": "code",
      "metadata": {
        "id": "4PYFbr-SBpqE",
        "colab_type": "code",
        "colab": {
          "base_uri": "https://localhost:8080/",
          "height": 1000
        },
        "outputId": "79d09382-1d64-4d48-9c76-8b3930d869d9"
      },
      "source": [
        "iterations = 100000\n",
        "alpha = 0.03\n",
        "gradient_descent(X,y,theta,alpha,iterations)"
      ],
      "execution_count": 41,
      "outputs": [
        {
          "output_type": "stream",
          "text": [
            "Error in 0th iteration: [80.60481319]\n",
            "Error in 50th iteration: [57.03450655]\n",
            "Error in 100th iteration: [56.55848356]\n",
            "Error in 150th iteration: [56.09932812]\n",
            "Error in 200th iteration: [55.65644254]\n",
            "Error in 250th iteration: [55.2292503]\n",
            "Error in 300th iteration: [54.81719533]\n",
            "Error in 350th iteration: [54.41974125]\n",
            "Error in 400th iteration: [54.03637068]\n",
            "Error in 450th iteration: [53.66658458]\n",
            "Error in 500th iteration: [53.3099016]\n",
            "Error in 550th iteration: [52.96585743]\n",
            "Error in 600th iteration: [52.63400424]\n",
            "Error in 650th iteration: [52.31391004]\n",
            "Error in 700th iteration: [52.00515815]\n",
            "Error in 750th iteration: [51.70734668]\n",
            "Error in 800th iteration: [51.42008795]\n",
            "Error in 850th iteration: [51.14300804]\n",
            "Error in 900th iteration: [50.87574627]\n",
            "Error in 950th iteration: [50.61795473]\n",
            "Error in 1000th iteration: [50.36929786]\n",
            "Error in 1050th iteration: [50.12945198]\n",
            "Error in 1100th iteration: [49.89810487]\n",
            "Error in 1150th iteration: [49.67495539]\n",
            "Error in 1200th iteration: [49.45971306]\n",
            "Error in 1250th iteration: [49.25209769]\n",
            "Error in 1300th iteration: [49.05183903]\n",
            "Error in 1350th iteration: [48.8586764]\n",
            "Error in 1400th iteration: [48.67235835]\n",
            "Error in 1450th iteration: [48.49264236]\n",
            "Error in 1500th iteration: [48.31929448]\n",
            "Error in 1550th iteration: [48.15208906]\n",
            "Error in 1600th iteration: [47.99080845]\n",
            "Error in 1650th iteration: [47.83524271]\n",
            "Error in 1700th iteration: [47.68518934]\n",
            "Error in 1750th iteration: [47.540453]\n",
            "Error in 1800th iteration: [47.4008453]\n",
            "Error in 1850th iteration: [47.2661845]\n",
            "Error in 1900th iteration: [47.13629532]\n",
            "Error in 1950th iteration: [47.01100866]\n",
            "Error in 2000th iteration: [46.89016146]\n",
            "Error in 2050th iteration: [46.77359639]\n",
            "Error in 2100th iteration: [46.66116173]\n",
            "Error in 2150th iteration: [46.55271111]\n",
            "Error in 2200th iteration: [46.44810337]\n",
            "Error in 2250th iteration: [46.34720233]\n",
            "Error in 2300th iteration: [46.24987664]\n",
            "Error in 2350th iteration: [46.15599963]\n",
            "Error in 2400th iteration: [46.06544909]\n",
            "Error in 2450th iteration: [45.97810714]\n",
            "Error in 2500th iteration: [45.89386009]\n",
            "Error in 2550th iteration: [45.81259828]\n",
            "Error in 2600th iteration: [45.73421593]\n",
            "Error in 2650th iteration: [45.658611]\n",
            "Error in 2700th iteration: [45.58568508]\n",
            "Error in 2750th iteration: [45.51534324]\n",
            "Error in 2800th iteration: [45.44749391]\n",
            "Error in 2850th iteration: [45.38204878]\n",
            "Error in 2900th iteration: [45.31892266]\n",
            "Error in 2950th iteration: [45.25803336]\n",
            "Error in 3000th iteration: [45.19930164]\n",
            "Error in 3050th iteration: [45.14265103]\n",
            "Error in 3100th iteration: [45.0880078]\n",
            "Error in 3150th iteration: [45.03530081]\n",
            "Error in 3200th iteration: [44.98446146]\n",
            "Error in 3250th iteration: [44.93542357]\n",
            "Error in 3300th iteration: [44.8881233]\n",
            "Error in 3350th iteration: [44.84249909]\n",
            "Error in 3400th iteration: [44.79849153]\n",
            "Error in 3450th iteration: [44.75604336]\n",
            "Error in 3500th iteration: [44.71509931]\n",
            "Error in 3550th iteration: [44.67560608]\n",
            "Error in 3600th iteration: [44.63751226]\n",
            "Error in 3650th iteration: [44.60076828]\n",
            "Error in 3700th iteration: [44.56532629]\n",
            "Error in 3750th iteration: [44.53114017]\n",
            "Error in 3800th iteration: [44.4981654]\n",
            "Error in 3850th iteration: [44.46635908]\n",
            "Error in 3900th iteration: [44.43567979]\n",
            "Error in 3950th iteration: [44.4060876]\n",
            "Error in 4000th iteration: [44.37754399]\n",
            "Error in 4050th iteration: [44.3500118]\n",
            "Error in 4100th iteration: [44.3234552]\n",
            "Error in 4150th iteration: [44.29783961]\n",
            "Error in 4200th iteration: [44.27313169]\n",
            "Error in 4250th iteration: [44.24929929]\n",
            "Error in 4300th iteration: [44.22631136]\n",
            "Error in 4350th iteration: [44.204138]\n",
            "Error in 4400th iteration: [44.18275033]\n",
            "Error in 4450th iteration: [44.16212053]\n",
            "Error in 4500th iteration: [44.14222172]\n",
            "Error in 4550th iteration: [44.12302802]\n",
            "Error in 4600th iteration: [44.10451443]\n",
            "Error in 4650th iteration: [44.08665686]\n",
            "Error in 4700th iteration: [44.06943206]\n",
            "Error in 4750th iteration: [44.05281761]\n",
            "Error in 4800th iteration: [44.03679188]\n",
            "Error in 4850th iteration: [44.02133401]\n",
            "Error in 4900th iteration: [44.00642388]\n",
            "Error in 4950th iteration: [43.99204208]\n",
            "Error in 5000th iteration: [43.97816988]\n",
            "Error in 5050th iteration: [43.96478925]\n",
            "Error in 5100th iteration: [43.95188274]\n",
            "Error in 5150th iteration: [43.93943357]\n",
            "Error in 5200th iteration: [43.92742552]\n",
            "Error in 5250th iteration: [43.91584298]\n",
            "Error in 5300th iteration: [43.90467085]\n",
            "Error in 5350th iteration: [43.8938946]\n",
            "Error in 5400th iteration: [43.88350019]\n",
            "Error in 5450th iteration: [43.87347411]\n",
            "Error in 5500th iteration: [43.86380329]\n",
            "Error in 5550th iteration: [43.85447516]\n",
            "Error in 5600th iteration: [43.84547756]\n",
            "Error in 5650th iteration: [43.83679878]\n",
            "Error in 5700th iteration: [43.82842753]\n",
            "Error in 5750th iteration: [43.82035291]\n",
            "Error in 5800th iteration: [43.8125644]\n",
            "Error in 5850th iteration: [43.80505188]\n",
            "Error in 5900th iteration: [43.79780556]\n",
            "Error in 5950th iteration: [43.79081601]\n",
            "Error in 6000th iteration: [43.78407412]\n",
            "Error in 6050th iteration: [43.77757113]\n",
            "Error in 6100th iteration: [43.77129857]\n",
            "Error in 6150th iteration: [43.76524828]\n",
            "Error in 6200th iteration: [43.75941237]\n",
            "Error in 6250th iteration: [43.75378325]\n",
            "Error in 6300th iteration: [43.7483536]\n",
            "Error in 6350th iteration: [43.74311634]\n",
            "Error in 6400th iteration: [43.73806467]\n",
            "Error in 6450th iteration: [43.73319199]\n",
            "Error in 6500th iteration: [43.72849198]\n",
            "Error in 6550th iteration: [43.7239585]\n",
            "Error in 6600th iteration: [43.71958567]\n",
            "Error in 6650th iteration: [43.71536778]\n",
            "Error in 6700th iteration: [43.71129936]\n",
            "Error in 6750th iteration: [43.70737509]\n",
            "Error in 6800th iteration: [43.70358988]\n",
            "Error in 6850th iteration: [43.6999388]\n",
            "Error in 6900th iteration: [43.69641709]\n",
            "Error in 6950th iteration: [43.69302016]\n",
            "Error in 7000th iteration: [43.68974361]\n",
            "Error in 7050th iteration: [43.68658316]\n",
            "Error in 7100th iteration: [43.68353469]\n",
            "Error in 7150th iteration: [43.68059425]\n",
            "Error in 7200th iteration: [43.677758]\n",
            "Error in 7250th iteration: [43.67502225]\n",
            "Error in 7300th iteration: [43.67238344]\n",
            "Error in 7350th iteration: [43.66983813]\n",
            "Error in 7400th iteration: [43.66738302]\n",
            "Error in 7450th iteration: [43.6650149]\n",
            "Error in 7500th iteration: [43.66273069]\n",
            "Error in 7550th iteration: [43.66052743]\n",
            "Error in 7600th iteration: [43.65840223]\n",
            "Error in 7650th iteration: [43.65635234]\n",
            "Error in 7700th iteration: [43.65437508]\n",
            "Error in 7750th iteration: [43.65246789]\n",
            "Error in 7800th iteration: [43.65062828]\n",
            "Error in 7850th iteration: [43.64885385]\n",
            "Error in 7900th iteration: [43.6471423]\n",
            "Error in 7950th iteration: [43.6454914]\n",
            "Error in 8000th iteration: [43.64389899]\n",
            "Error in 8050th iteration: [43.64236301]\n",
            "Error in 8100th iteration: [43.64088146]\n",
            "Error in 8150th iteration: [43.63945241]\n",
            "Error in 8200th iteration: [43.63807399]\n",
            "Error in 8250th iteration: [43.63674441]\n",
            "Error in 8300th iteration: [43.63546195]\n",
            "Error in 8350th iteration: [43.63422493]\n",
            "Error in 8400th iteration: [43.63303175]\n",
            "Error in 8450th iteration: [43.63188084]\n",
            "Error in 8500th iteration: [43.63077072]\n",
            "Error in 8550th iteration: [43.62969993]\n",
            "Error in 8600th iteration: [43.62866709]\n",
            "Error in 8650th iteration: [43.62767084]\n",
            "Error in 8700th iteration: [43.62670989]\n",
            "Error in 8750th iteration: [43.625783]\n",
            "Error in 8800th iteration: [43.62488895]\n",
            "Error in 8850th iteration: [43.62402658]\n",
            "Error in 8900th iteration: [43.62319476]\n",
            "Error in 8950th iteration: [43.62239242]\n",
            "Error in 9000th iteration: [43.62161851]\n",
            "Error in 9050th iteration: [43.62087203]\n",
            "Error in 9100th iteration: [43.62015199]\n",
            "Error in 9150th iteration: [43.61945747]\n",
            "Error in 9200th iteration: [43.61878756]\n",
            "Error in 9250th iteration: [43.61814139]\n",
            "Error in 9300th iteration: [43.61751811]\n",
            "Error in 9350th iteration: [43.61691692]\n",
            "Error in 9400th iteration: [43.61633704]\n",
            "Error in 9450th iteration: [43.6157777]\n",
            "Error in 9500th iteration: [43.61523818]\n",
            "Error in 9550th iteration: [43.61471777]\n",
            "Error in 9600th iteration: [43.61421581]\n",
            "Error in 9650th iteration: [43.61373163]\n",
            "Error in 9700th iteration: [43.61326462]\n",
            "Error in 9750th iteration: [43.61281414]\n",
            "Error in 9800th iteration: [43.61237964]\n",
            "Error in 9850th iteration: [43.61196052]\n",
            "Error in 9900th iteration: [43.61155626]\n",
            "Error in 9950th iteration: [43.61116633]\n",
            "Error in 10000th iteration: [43.61079021]\n",
            "Error in 10050th iteration: [43.61042741]\n",
            "Error in 10100th iteration: [43.61007748]\n",
            "Error in 10150th iteration: [43.60973994]\n",
            "Error in 10200th iteration: [43.60941436]\n",
            "Error in 10250th iteration: [43.60910032]\n",
            "Error in 10300th iteration: [43.60879741]\n",
            "Error in 10350th iteration: [43.60850523]\n",
            "Error in 10400th iteration: [43.60822341]\n",
            "Error in 10450th iteration: [43.60795157]\n",
            "Error in 10500th iteration: [43.60768936]\n",
            "Error in 10550th iteration: [43.60743645]\n",
            "Error in 10600th iteration: [43.60719249]\n",
            "Error in 10650th iteration: [43.60695718]\n",
            "Error in 10700th iteration: [43.60673021]\n",
            "Error in 10750th iteration: [43.60651128]\n",
            "Error in 10800th iteration: [43.60630011]\n",
            "Error in 10850th iteration: [43.60609642]\n",
            "Error in 10900th iteration: [43.60589995]\n",
            "Error in 10950th iteration: [43.60571044]\n",
            "Error in 11000th iteration: [43.60552765]\n",
            "Error in 11050th iteration: [43.60535133]\n",
            "Error in 11100th iteration: [43.60518126]\n",
            "Error in 11150th iteration: [43.60501722]\n",
            "Error in 11200th iteration: [43.60485899]\n",
            "Error in 11250th iteration: [43.60470637]\n",
            "Error in 11300th iteration: [43.60455915]\n",
            "Error in 11350th iteration: [43.60441715]\n",
            "Error in 11400th iteration: [43.60428019]\n",
            "Error in 11450th iteration: [43.60414807]\n",
            "Error in 11500th iteration: [43.60402064]\n",
            "Error in 11550th iteration: [43.60389772]\n",
            "Error in 11600th iteration: [43.60377916]\n",
            "Error in 11650th iteration: [43.6036648]\n",
            "Error in 11700th iteration: [43.60355449]\n",
            "Error in 11750th iteration: [43.60344809]\n",
            "Error in 11800th iteration: [43.60334546]\n",
            "Error in 11850th iteration: [43.60324647]\n",
            "Error in 11900th iteration: [43.60315099]\n",
            "Error in 11950th iteration: [43.60305888]\n",
            "Error in 12000th iteration: [43.60297005]\n",
            "Error in 12050th iteration: [43.60288436]\n",
            "Error in 12100th iteration: [43.6028017]\n",
            "Error in 12150th iteration: [43.60272198]\n",
            "Error in 12200th iteration: [43.60264508]\n",
            "Error in 12250th iteration: [43.6025709]\n",
            "Error in 12300th iteration: [43.60249936]\n",
            "Error in 12350th iteration: [43.60243035]\n",
            "Error in 12400th iteration: [43.60236378]\n",
            "Error in 12450th iteration: [43.60229957]\n",
            "Error in 12500th iteration: [43.60223764]\n",
            "Error in 12550th iteration: [43.6021779]\n",
            "Error in 12600th iteration: [43.60212028]\n",
            "Error in 12650th iteration: [43.6020647]\n",
            "Error in 12700th iteration: [43.60201109]\n",
            "Error in 12750th iteration: [43.60195938]\n",
            "Error in 12800th iteration: [43.60190951]\n",
            "Error in 12850th iteration: [43.6018614]\n",
            "Error in 12900th iteration: [43.60181499]\n",
            "Error in 12950th iteration: [43.60177023]\n",
            "Error in 13000th iteration: [43.60172705]\n",
            "Error in 13050th iteration: [43.60168541]\n",
            "Error in 13100th iteration: [43.60164524]\n",
            "Error in 13150th iteration: [43.60160649]\n",
            "Error in 13200th iteration: [43.60156912]\n",
            "Error in 13250th iteration: [43.60153307]\n",
            "Error in 13300th iteration: [43.6014983]\n",
            "Error in 13350th iteration: [43.60146476]\n",
            "Error in 13400th iteration: [43.60143241]\n",
            "Error in 13450th iteration: [43.6014012]\n",
            "Error in 13500th iteration: [43.6013711]\n",
            "Error in 13550th iteration: [43.60134207]\n",
            "Error in 13600th iteration: [43.60131407]\n",
            "Error in 13650th iteration: [43.60128706]\n",
            "Error in 13700th iteration: [43.601261]\n",
            "Error in 13750th iteration: [43.60123587]\n",
            "Error in 13800th iteration: [43.60121163]\n",
            "Error in 13850th iteration: [43.60118825]\n",
            "Error in 13900th iteration: [43.6011657]\n",
            "Error in 13950th iteration: [43.60114394]\n",
            "Error in 14000th iteration: [43.60112296]\n",
            "Error in 14050th iteration: [43.60110272]\n",
            "Error in 14100th iteration: [43.6010832]\n",
            "Error in 14150th iteration: [43.60106437]\n",
            "Error in 14200th iteration: [43.6010462]\n",
            "Error in 14250th iteration: [43.60102868]\n",
            "Error in 14300th iteration: [43.60101178]\n",
            "Error in 14350th iteration: [43.60099548]\n",
            "Error in 14400th iteration: [43.60097976]\n",
            "Error in 14450th iteration: [43.60096459]\n",
            "Error in 14500th iteration: [43.60094997]\n",
            "Error in 14550th iteration: [43.60093586]\n",
            "Error in 14600th iteration: [43.60092225]\n",
            "Error in 14650th iteration: [43.60090912]\n",
            "Error in 14700th iteration: [43.60089646]\n",
            "Error in 14750th iteration: [43.60088424]\n",
            "Error in 14800th iteration: [43.60087246]\n",
            "Error in 14850th iteration: [43.6008611]\n",
            "Error in 14900th iteration: [43.60085014]\n",
            "Error in 14950th iteration: [43.60083957]\n",
            "Error in 15000th iteration: [43.60082937]\n",
            "Error in 15050th iteration: [43.60081953]\n",
            "Error in 15100th iteration: [43.60081004]\n",
            "Error in 15150th iteration: [43.60080089]\n",
            "Error in 15200th iteration: [43.60079206]\n",
            "Error in 15250th iteration: [43.60078355]\n",
            "Error in 15300th iteration: [43.60077534]\n",
            "Error in 15350th iteration: [43.60076741]\n",
            "Error in 15400th iteration: [43.60075977]\n",
            "Error in 15450th iteration: [43.6007524]\n",
            "Error in 15500th iteration: [43.60074529]\n",
            "Error in 15550th iteration: [43.60073844]\n",
            "Error in 15600th iteration: [43.60073182]\n",
            "Error in 15650th iteration: [43.60072544]\n",
            "Error in 15700th iteration: [43.60071929]\n",
            "Error in 15750th iteration: [43.60071335]\n",
            "Error in 15800th iteration: [43.60070763]\n",
            "Error in 15850th iteration: [43.6007021]\n",
            "Error in 15900th iteration: [43.60069678]\n",
            "Error in 15950th iteration: [43.60069164]\n",
            "Error in 16000th iteration: [43.60068668]\n",
            "Error in 16050th iteration: [43.6006819]\n",
            "Error in 16100th iteration: [43.60067729]\n",
            "Error in 16150th iteration: [43.60067284]\n",
            "Error in 16200th iteration: [43.60066855]\n",
            "Error in 16250th iteration: [43.60066442]\n",
            "Error in 16300th iteration: [43.60066042]\n",
            "Error in 16350th iteration: [43.60065657]\n",
            "Error in 16400th iteration: [43.60065286]\n",
            "Error in 16450th iteration: [43.60064928]\n",
            "Error in 16500th iteration: [43.60064582]\n",
            "Error in 16550th iteration: [43.60064249]\n",
            "Error in 16600th iteration: [43.60063928]\n",
            "Error in 16650th iteration: [43.60063618]\n",
            "Error in 16700th iteration: [43.60063318]\n",
            "Error in 16750th iteration: [43.6006303]\n",
            "Error in 16800th iteration: [43.60062752]\n",
            "Error in 16850th iteration: [43.60062483]\n",
            "Error in 16900th iteration: [43.60062224]\n",
            "Error in 16950th iteration: [43.60061975]\n",
            "Error in 17000th iteration: [43.60061734]\n",
            "Error in 17050th iteration: [43.60061502]\n",
            "Error in 17100th iteration: [43.60061277]\n",
            "Error in 17150th iteration: [43.60061061]\n",
            "Error in 17200th iteration: [43.60060853]\n",
            "Error in 17250th iteration: [43.60060652]\n",
            "Error in 17300th iteration: [43.60060458]\n",
            "Error in 17350th iteration: [43.60060271]\n",
            "Error in 17400th iteration: [43.6006009]\n",
            "Error in 17450th iteration: [43.60059916]\n",
            "Error in 17500th iteration: [43.60059748]\n",
            "Error in 17550th iteration: [43.60059586]\n",
            "Error in 17600th iteration: [43.6005943]\n",
            "Error in 17650th iteration: [43.60059279]\n",
            "Error in 17700th iteration: [43.60059134]\n",
            "Error in 17750th iteration: [43.60058994]\n",
            "Error in 17800th iteration: [43.60058858]\n",
            "Error in 17850th iteration: [43.60058728]\n",
            "Error in 17900th iteration: [43.60058602]\n",
            "Error in 17950th iteration: [43.60058481]\n",
            "Error in 18000th iteration: [43.60058364]\n",
            "Error in 18050th iteration: [43.60058251]\n",
            "Error in 18100th iteration: [43.60058142]\n",
            "Error in 18150th iteration: [43.60058037]\n",
            "Error in 18200th iteration: [43.60057935]\n",
            "Error in 18250th iteration: [43.60057838]\n",
            "Error in 18300th iteration: [43.60057743]\n",
            "Error in 18350th iteration: [43.60057653]\n",
            "Error in 18400th iteration: [43.60057565]\n",
            "Error in 18450th iteration: [43.6005748]\n",
            "Error in 18500th iteration: [43.60057399]\n",
            "Error in 18550th iteration: [43.6005732]\n",
            "Error in 18600th iteration: [43.60057244]\n",
            "Error in 18650th iteration: [43.60057171]\n",
            "Error in 18700th iteration: [43.600571]\n",
            "Error in 18750th iteration: [43.60057032]\n",
            "Error in 18800th iteration: [43.60056966]\n",
            "Error in 18850th iteration: [43.60056903]\n",
            "Error in 18900th iteration: [43.60056842]\n",
            "Error in 18950th iteration: [43.60056783]\n",
            "Error in 19000th iteration: [43.60056726]\n",
            "Error in 19050th iteration: [43.60056671]\n",
            "Error in 19100th iteration: [43.60056618]\n",
            "Error in 19150th iteration: [43.60056567]\n",
            "Error in 19200th iteration: [43.60056518]\n",
            "Error in 19250th iteration: [43.6005647]\n",
            "Error in 19300th iteration: [43.60056424]\n",
            "Error in 19350th iteration: [43.6005638]\n",
            "Error in 19400th iteration: [43.60056338]\n",
            "Error in 19450th iteration: [43.60056296]\n",
            "Error in 19500th iteration: [43.60056257]\n",
            "Error in 19550th iteration: [43.60056218]\n",
            "Error in 19600th iteration: [43.60056182]\n",
            "Error in 19650th iteration: [43.60056146]\n",
            "Error in 19700th iteration: [43.60056112]\n",
            "Error in 19750th iteration: [43.60056079]\n",
            "Error in 19800th iteration: [43.60056047]\n",
            "Error in 19850th iteration: [43.60056016]\n",
            "Error in 19900th iteration: [43.60055986]\n",
            "Error in 19950th iteration: [43.60055957]\n",
            "Error in 20000th iteration: [43.6005593]\n",
            "Error in 20050th iteration: [43.60055903]\n",
            "Error in 20100th iteration: [43.60055877]\n",
            "Error in 20150th iteration: [43.60055853]\n",
            "Error in 20200th iteration: [43.60055829]\n",
            "Error in 20250th iteration: [43.60055806]\n",
            "Error in 20300th iteration: [43.60055783]\n",
            "Error in 20350th iteration: [43.60055762]\n",
            "Error in 20400th iteration: [43.60055741]\n",
            "Error in 20450th iteration: [43.60055721]\n",
            "Error in 20500th iteration: [43.60055702]\n",
            "Error in 20550th iteration: [43.60055683]\n",
            "Error in 20600th iteration: [43.60055665]\n",
            "Error in 20650th iteration: [43.60055648]\n",
            "Error in 20700th iteration: [43.60055631]\n",
            "Error in 20750th iteration: [43.60055615]\n",
            "Error in 20800th iteration: [43.600556]\n",
            "Error in 20850th iteration: [43.60055585]\n",
            "Error in 20900th iteration: [43.6005557]\n",
            "Error in 20950th iteration: [43.60055556]\n",
            "Error in 21000th iteration: [43.60055543]\n",
            "Error in 21050th iteration: [43.6005553]\n",
            "Error in 21100th iteration: [43.60055517]\n",
            "Error in 21150th iteration: [43.60055505]\n",
            "Error in 21200th iteration: [43.60055494]\n",
            "Error in 21250th iteration: [43.60055483]\n",
            "Error in 21300th iteration: [43.60055472]\n",
            "Error in 21350th iteration: [43.60055461]\n",
            "Error in 21400th iteration: [43.60055451]\n",
            "Error in 21450th iteration: [43.60055441]\n",
            "Error in 21500th iteration: [43.60055432]\n",
            "Error in 21550th iteration: [43.60055423]\n",
            "Error in 21600th iteration: [43.60055414]\n",
            "Error in 21650th iteration: [43.60055406]\n",
            "Error in 21700th iteration: [43.60055398]\n",
            "Error in 21750th iteration: [43.6005539]\n",
            "Error in 21800th iteration: [43.60055382]\n",
            "Error in 21850th iteration: [43.60055375]\n",
            "Error in 21900th iteration: [43.60055368]\n",
            "Error in 21950th iteration: [43.60055361]\n",
            "Error in 22000th iteration: [43.60055355]\n",
            "Error in 22050th iteration: [43.60055349]\n",
            "Error in 22100th iteration: [43.60055343]\n",
            "Error in 22150th iteration: [43.60055337]\n",
            "Error in 22200th iteration: [43.60055331]\n",
            "Error in 22250th iteration: [43.60055326]\n",
            "Error in 22300th iteration: [43.6005532]\n",
            "Error in 22350th iteration: [43.60055315]\n",
            "Error in 22400th iteration: [43.6005531]\n",
            "Error in 22450th iteration: [43.60055306]\n",
            "Error in 22500th iteration: [43.60055301]\n",
            "Error in 22550th iteration: [43.60055297]\n",
            "Error in 22600th iteration: [43.60055292]\n",
            "Error in 22650th iteration: [43.60055288]\n",
            "Error in 22700th iteration: [43.60055284]\n",
            "Error in 22750th iteration: [43.60055281]\n",
            "Error in 22800th iteration: [43.60055277]\n",
            "Error in 22850th iteration: [43.60055273]\n",
            "Error in 22900th iteration: [43.6005527]\n",
            "Error in 22950th iteration: [43.60055267]\n",
            "Error in 23000th iteration: [43.60055264]\n",
            "Error in 23050th iteration: [43.6005526]\n",
            "Error in 23100th iteration: [43.60055258]\n",
            "Error in 23150th iteration: [43.60055255]\n",
            "Error in 23200th iteration: [43.60055252]\n",
            "Error in 23250th iteration: [43.60055249]\n",
            "Error in 23300th iteration: [43.60055247]\n",
            "Error in 23350th iteration: [43.60055244]\n",
            "Error in 23400th iteration: [43.60055242]\n",
            "Error in 23450th iteration: [43.6005524]\n",
            "Error in 23500th iteration: [43.60055237]\n",
            "Error in 23550th iteration: [43.60055235]\n",
            "Error in 23600th iteration: [43.60055233]\n",
            "Error in 23650th iteration: [43.60055231]\n",
            "Error in 23700th iteration: [43.60055229]\n",
            "Error in 23750th iteration: [43.60055227]\n",
            "Error in 23800th iteration: [43.60055226]\n",
            "Error in 23850th iteration: [43.60055224]\n",
            "Error in 23900th iteration: [43.60055222]\n",
            "Error in 23950th iteration: [43.60055221]\n",
            "Error in 24000th iteration: [43.60055219]\n",
            "Error in 24050th iteration: [43.60055218]\n",
            "Error in 24100th iteration: [43.60055216]\n",
            "Error in 24150th iteration: [43.60055215]\n",
            "Error in 24200th iteration: [43.60055213]\n",
            "Error in 24250th iteration: [43.60055212]\n",
            "Error in 24300th iteration: [43.60055211]\n",
            "Error in 24350th iteration: [43.6005521]\n",
            "Error in 24400th iteration: [43.60055209]\n",
            "Error in 24450th iteration: [43.60055207]\n",
            "Error in 24500th iteration: [43.60055206]\n",
            "Error in 24550th iteration: [43.60055205]\n",
            "Error in 24600th iteration: [43.60055204]\n",
            "Error in 24650th iteration: [43.60055203]\n",
            "Error in 24700th iteration: [43.60055202]\n",
            "Error in 24750th iteration: [43.60055202]\n",
            "Error in 24800th iteration: [43.60055201]\n",
            "Error in 24850th iteration: [43.600552]\n",
            "Error in 24900th iteration: [43.60055199]\n",
            "Error in 24950th iteration: [43.60055198]\n",
            "Error in 25000th iteration: [43.60055198]\n",
            "Error in 25050th iteration: [43.60055197]\n",
            "Error in 25100th iteration: [43.60055196]\n",
            "Error in 25150th iteration: [43.60055195]\n",
            "Error in 25200th iteration: [43.60055195]\n",
            "Error in 25250th iteration: [43.60055194]\n",
            "Error in 25300th iteration: [43.60055194]\n",
            "Error in 25350th iteration: [43.60055193]\n",
            "Error in 25400th iteration: [43.60055192]\n",
            "Error in 25450th iteration: [43.60055192]\n",
            "Error in 25500th iteration: [43.60055191]\n",
            "Error in 25550th iteration: [43.60055191]\n",
            "Error in 25600th iteration: [43.6005519]\n",
            "Error in 25650th iteration: [43.6005519]\n",
            "Error in 25700th iteration: [43.60055189]\n",
            "Error in 25750th iteration: [43.60055189]\n",
            "Error in 25800th iteration: [43.60055189]\n",
            "Error in 25850th iteration: [43.60055188]\n",
            "Error in 25900th iteration: [43.60055188]\n",
            "Error in 25950th iteration: [43.60055187]\n",
            "Error in 26000th iteration: [43.60055187]\n",
            "Error in 26050th iteration: [43.60055187]\n",
            "Error in 26100th iteration: [43.60055186]\n",
            "Error in 26150th iteration: [43.60055186]\n",
            "Error in 26200th iteration: [43.60055186]\n",
            "Error in 26250th iteration: [43.60055185]\n",
            "Error in 26300th iteration: [43.60055185]\n",
            "Error in 26350th iteration: [43.60055185]\n",
            "Error in 26400th iteration: [43.60055185]\n",
            "Error in 26450th iteration: [43.60055184]\n",
            "Error in 26500th iteration: [43.60055184]\n",
            "Error in 26550th iteration: [43.60055184]\n",
            "Error in 26600th iteration: [43.60055184]\n",
            "Error in 26650th iteration: [43.60055183]\n",
            "Error in 26700th iteration: [43.60055183]\n",
            "Error in 26750th iteration: [43.60055183]\n",
            "Error in 26800th iteration: [43.60055183]\n",
            "Error in 26850th iteration: [43.60055182]\n",
            "Error in 26900th iteration: [43.60055182]\n",
            "Error in 26950th iteration: [43.60055182]\n",
            "Error in 27000th iteration: [43.60055182]\n",
            "Error in 27050th iteration: [43.60055182]\n",
            "Error in 27100th iteration: [43.60055182]\n",
            "Error in 27150th iteration: [43.60055181]\n",
            "Error in 27200th iteration: [43.60055181]\n",
            "Error in 27250th iteration: [43.60055181]\n",
            "Error in 27300th iteration: [43.60055181]\n",
            "Error in 27350th iteration: [43.60055181]\n",
            "Error in 27400th iteration: [43.60055181]\n",
            "Error in 27450th iteration: [43.60055181]\n",
            "Error in 27500th iteration: [43.6005518]\n",
            "Error in 27550th iteration: [43.6005518]\n",
            "Error in 27600th iteration: [43.6005518]\n",
            "Error in 27650th iteration: [43.6005518]\n",
            "Error in 27700th iteration: [43.6005518]\n",
            "Error in 27750th iteration: [43.6005518]\n",
            "Error in 27800th iteration: [43.6005518]\n",
            "Error in 27850th iteration: [43.6005518]\n",
            "Error in 27900th iteration: [43.6005518]\n",
            "Error in 27950th iteration: [43.6005518]\n",
            "Error in 28000th iteration: [43.60055179]\n",
            "Error in 28050th iteration: [43.60055179]\n",
            "Error in 28100th iteration: [43.60055179]\n",
            "Error in 28150th iteration: [43.60055179]\n",
            "Error in 28200th iteration: [43.60055179]\n",
            "Error in 28250th iteration: [43.60055179]\n",
            "Error in 28300th iteration: [43.60055179]\n",
            "Error in 28350th iteration: [43.60055179]\n",
            "Error in 28400th iteration: [43.60055179]\n",
            "Error in 28450th iteration: [43.60055179]\n",
            "Error in 28500th iteration: [43.60055179]\n",
            "Error in 28550th iteration: [43.60055179]\n",
            "Error in 28600th iteration: [43.60055179]\n",
            "Error in 28650th iteration: [43.60055179]\n",
            "Error in 28700th iteration: [43.60055179]\n",
            "Error in 28750th iteration: [43.60055178]\n",
            "Error in 28800th iteration: [43.60055178]\n",
            "Error in 28850th iteration: [43.60055178]\n",
            "Error in 28900th iteration: [43.60055178]\n",
            "Error in 28950th iteration: [43.60055178]\n",
            "Error in 29000th iteration: [43.60055178]\n",
            "Error in 29050th iteration: [43.60055178]\n",
            "Error in 29100th iteration: [43.60055178]\n",
            "Error in 29150th iteration: [43.60055178]\n",
            "Error in 29200th iteration: [43.60055178]\n",
            "Error in 29250th iteration: [43.60055178]\n",
            "Error in 29300th iteration: [43.60055178]\n",
            "Error in 29350th iteration: [43.60055178]\n",
            "Error in 29400th iteration: [43.60055178]\n",
            "Error in 29450th iteration: [43.60055178]\n",
            "Error in 29500th iteration: [43.60055178]\n",
            "Error in 29550th iteration: [43.60055178]\n",
            "Error in 29600th iteration: [43.60055178]\n",
            "Error in 29650th iteration: [43.60055178]\n",
            "Error in 29700th iteration: [43.60055178]\n",
            "Error in 29750th iteration: [43.60055178]\n",
            "Error in 29800th iteration: [43.60055178]\n",
            "Error in 29850th iteration: [43.60055178]\n",
            "Error in 29900th iteration: [43.60055178]\n",
            "Error in 29950th iteration: [43.60055178]\n",
            "Error in 30000th iteration: [43.60055178]\n",
            "Error in 30050th iteration: [43.60055178]\n",
            "Error in 30100th iteration: [43.60055178]\n",
            "Error in 30150th iteration: [43.60055178]\n",
            "Error in 30200th iteration: [43.60055178]\n",
            "Error in 30250th iteration: [43.60055178]\n",
            "Error in 30300th iteration: [43.60055178]\n",
            "Error in 30350th iteration: [43.60055178]\n",
            "Error in 30400th iteration: [43.60055178]\n",
            "Error in 30450th iteration: [43.60055178]\n",
            "Error in 30500th iteration: [43.60055178]\n",
            "Error in 30550th iteration: [43.60055177]\n",
            "Error in 30600th iteration: [43.60055177]\n",
            "Error in 30650th iteration: [43.60055177]\n",
            "Error in 30700th iteration: [43.60055177]\n",
            "Error in 30750th iteration: [43.60055177]\n",
            "Error in 30800th iteration: [43.60055177]\n",
            "Error in 30850th iteration: [43.60055177]\n",
            "Error in 30900th iteration: [43.60055177]\n",
            "Error in 30950th iteration: [43.60055177]\n",
            "Error in 31000th iteration: [43.60055177]\n",
            "Error in 31050th iteration: [43.60055177]\n",
            "Error in 31100th iteration: [43.60055177]\n",
            "Error in 31150th iteration: [43.60055177]\n",
            "Error in 31200th iteration: [43.60055177]\n",
            "Error in 31250th iteration: [43.60055177]\n",
            "Error in 31300th iteration: [43.60055177]\n",
            "Error in 31350th iteration: [43.60055177]\n",
            "Error in 31400th iteration: [43.60055177]\n",
            "Error in 31450th iteration: [43.60055177]\n",
            "Error in 31500th iteration: [43.60055177]\n",
            "Error in 31550th iteration: [43.60055177]\n",
            "Error in 31600th iteration: [43.60055177]\n",
            "Error in 31650th iteration: [43.60055177]\n",
            "Error in 31700th iteration: [43.60055177]\n",
            "Error in 31750th iteration: [43.60055177]\n",
            "Error in 31800th iteration: [43.60055177]\n",
            "Error in 31850th iteration: [43.60055177]\n",
            "Error in 31900th iteration: [43.60055177]\n",
            "Error in 31950th iteration: [43.60055177]\n",
            "Error in 32000th iteration: [43.60055177]\n",
            "Error in 32050th iteration: [43.60055177]\n",
            "Error in 32100th iteration: [43.60055177]\n",
            "Error in 32150th iteration: [43.60055177]\n",
            "Error in 32200th iteration: [43.60055177]\n",
            "Error in 32250th iteration: [43.60055177]\n",
            "Error in 32300th iteration: [43.60055177]\n",
            "Error in 32350th iteration: [43.60055177]\n",
            "Error in 32400th iteration: [43.60055177]\n",
            "Error in 32450th iteration: [43.60055177]\n",
            "Error in 32500th iteration: [43.60055177]\n",
            "Error in 32550th iteration: [43.60055177]\n",
            "Error in 32600th iteration: [43.60055177]\n",
            "Error in 32650th iteration: [43.60055177]\n",
            "Error in 32700th iteration: [43.60055177]\n",
            "Error in 32750th iteration: [43.60055177]\n",
            "Error in 32800th iteration: [43.60055177]\n",
            "Error in 32850th iteration: [43.60055177]\n",
            "Error in 32900th iteration: [43.60055177]\n",
            "Error in 32950th iteration: [43.60055177]\n",
            "Error in 33000th iteration: [43.60055177]\n",
            "Error in 33050th iteration: [43.60055177]\n",
            "Error in 33100th iteration: [43.60055177]\n",
            "Error in 33150th iteration: [43.60055177]\n",
            "Error in 33200th iteration: [43.60055177]\n",
            "Error in 33250th iteration: [43.60055177]\n",
            "Error in 33300th iteration: [43.60055177]\n",
            "Error in 33350th iteration: [43.60055177]\n",
            "Error in 33400th iteration: [43.60055177]\n",
            "Error in 33450th iteration: [43.60055177]\n",
            "Error in 33500th iteration: [43.60055177]\n",
            "Error in 33550th iteration: [43.60055177]\n",
            "Error in 33600th iteration: [43.60055177]\n",
            "Error in 33650th iteration: [43.60055177]\n",
            "Error in 33700th iteration: [43.60055177]\n",
            "Error in 33750th iteration: [43.60055177]\n",
            "Error in 33800th iteration: [43.60055177]\n",
            "Error in 33850th iteration: [43.60055177]\n",
            "Error in 33900th iteration: [43.60055177]\n",
            "Error in 33950th iteration: [43.60055177]\n",
            "Error in 34000th iteration: [43.60055177]\n",
            "Error in 34050th iteration: [43.60055177]\n",
            "Error in 34100th iteration: [43.60055177]\n",
            "Error in 34150th iteration: [43.60055177]\n",
            "Error in 34200th iteration: [43.60055177]\n",
            "Error in 34250th iteration: [43.60055177]\n",
            "Error in 34300th iteration: [43.60055177]\n",
            "Error in 34350th iteration: [43.60055177]\n",
            "Error in 34400th iteration: [43.60055177]\n",
            "Error in 34450th iteration: [43.60055177]\n",
            "Error in 34500th iteration: [43.60055177]\n",
            "Error in 34550th iteration: [43.60055177]\n",
            "Error in 34600th iteration: [43.60055177]\n",
            "Error in 34650th iteration: [43.60055177]\n",
            "Error in 34700th iteration: [43.60055177]\n",
            "Error in 34750th iteration: [43.60055177]\n",
            "Error in 34800th iteration: [43.60055177]\n",
            "Error in 34850th iteration: [43.60055177]\n",
            "Error in 34900th iteration: [43.60055177]\n",
            "Error in 34950th iteration: [43.60055177]\n",
            "Error in 35000th iteration: [43.60055177]\n",
            "Error in 35050th iteration: [43.60055177]\n",
            "Error in 35100th iteration: [43.60055177]\n",
            "Error in 35150th iteration: [43.60055177]\n",
            "Error in 35200th iteration: [43.60055177]\n",
            "Error in 35250th iteration: [43.60055177]\n",
            "Error in 35300th iteration: [43.60055177]\n",
            "Error in 35350th iteration: [43.60055177]\n",
            "Error in 35400th iteration: [43.60055177]\n",
            "Error in 35450th iteration: [43.60055177]\n",
            "Error in 35500th iteration: [43.60055177]\n",
            "Error in 35550th iteration: [43.60055177]\n",
            "Error in 35600th iteration: [43.60055177]\n",
            "Error in 35650th iteration: [43.60055177]\n",
            "Error in 35700th iteration: [43.60055177]\n",
            "Error in 35750th iteration: [43.60055177]\n",
            "Error in 35800th iteration: [43.60055177]\n",
            "Error in 35850th iteration: [43.60055177]\n",
            "Error in 35900th iteration: [43.60055177]\n",
            "Error in 35950th iteration: [43.60055177]\n",
            "Error in 36000th iteration: [43.60055177]\n",
            "Error in 36050th iteration: [43.60055177]\n",
            "Error in 36100th iteration: [43.60055177]\n",
            "Error in 36150th iteration: [43.60055177]\n",
            "Error in 36200th iteration: [43.60055177]\n",
            "Error in 36250th iteration: [43.60055177]\n",
            "Error in 36300th iteration: [43.60055177]\n",
            "Error in 36350th iteration: [43.60055177]\n",
            "Error in 36400th iteration: [43.60055177]\n",
            "Error in 36450th iteration: [43.60055177]\n",
            "Error in 36500th iteration: [43.60055177]\n",
            "Error in 36550th iteration: [43.60055177]\n",
            "Error in 36600th iteration: [43.60055177]\n",
            "Error in 36650th iteration: [43.60055177]\n",
            "Error in 36700th iteration: [43.60055177]\n",
            "Error in 36750th iteration: [43.60055177]\n",
            "Error in 36800th iteration: [43.60055177]\n",
            "Error in 36850th iteration: [43.60055177]\n",
            "Error in 36900th iteration: [43.60055177]\n",
            "Error in 36950th iteration: [43.60055177]\n",
            "Error in 37000th iteration: [43.60055177]\n",
            "Error in 37050th iteration: [43.60055177]\n",
            "Error in 37100th iteration: [43.60055177]\n",
            "Error in 37150th iteration: [43.60055177]\n",
            "Error in 37200th iteration: [43.60055177]\n",
            "Error in 37250th iteration: [43.60055177]\n",
            "Error in 37300th iteration: [43.60055177]\n",
            "Error in 37350th iteration: [43.60055177]\n",
            "Error in 37400th iteration: [43.60055177]\n",
            "Error in 37450th iteration: [43.60055177]\n",
            "Error in 37500th iteration: [43.60055177]\n",
            "Error in 37550th iteration: [43.60055177]\n",
            "Error in 37600th iteration: [43.60055177]\n",
            "Error in 37650th iteration: [43.60055177]\n",
            "Error in 37700th iteration: [43.60055177]\n",
            "Error in 37750th iteration: [43.60055177]\n",
            "Error in 37800th iteration: [43.60055177]\n",
            "Error in 37850th iteration: [43.60055177]\n",
            "Error in 37900th iteration: [43.60055177]\n",
            "Error in 37950th iteration: [43.60055177]\n",
            "Error in 38000th iteration: [43.60055177]\n",
            "Error in 38050th iteration: [43.60055177]\n",
            "Error in 38100th iteration: [43.60055177]\n",
            "Error in 38150th iteration: [43.60055177]\n",
            "Error in 38200th iteration: [43.60055177]\n",
            "Error in 38250th iteration: [43.60055177]\n",
            "Error in 38300th iteration: [43.60055177]\n",
            "Error in 38350th iteration: [43.60055177]\n",
            "Error in 38400th iteration: [43.60055177]\n",
            "Error in 38450th iteration: [43.60055177]\n",
            "Error in 38500th iteration: [43.60055177]\n",
            "Error in 38550th iteration: [43.60055177]\n",
            "Error in 38600th iteration: [43.60055177]\n",
            "Error in 38650th iteration: [43.60055177]\n",
            "Error in 38700th iteration: [43.60055177]\n",
            "Error in 38750th iteration: [43.60055177]\n",
            "Error in 38800th iteration: [43.60055177]\n",
            "Error in 38850th iteration: [43.60055177]\n",
            "Error in 38900th iteration: [43.60055177]\n",
            "Error in 38950th iteration: [43.60055177]\n",
            "Error in 39000th iteration: [43.60055177]\n",
            "Error in 39050th iteration: [43.60055177]\n",
            "Error in 39100th iteration: [43.60055177]\n",
            "Error in 39150th iteration: [43.60055177]\n",
            "Error in 39200th iteration: [43.60055177]\n",
            "Error in 39250th iteration: [43.60055177]\n",
            "Error in 39300th iteration: [43.60055177]\n",
            "Error in 39350th iteration: [43.60055177]\n",
            "Error in 39400th iteration: [43.60055177]\n",
            "Error in 39450th iteration: [43.60055177]\n",
            "Error in 39500th iteration: [43.60055177]\n",
            "Error in 39550th iteration: [43.60055177]\n",
            "Error in 39600th iteration: [43.60055177]\n",
            "Error in 39650th iteration: [43.60055177]\n",
            "Error in 39700th iteration: [43.60055177]\n",
            "Error in 39750th iteration: [43.60055177]\n",
            "Error in 39800th iteration: [43.60055177]\n",
            "Error in 39850th iteration: [43.60055177]\n",
            "Error in 39900th iteration: [43.60055177]\n",
            "Error in 39950th iteration: [43.60055177]\n",
            "Error in 40000th iteration: [43.60055177]\n",
            "Error in 40050th iteration: [43.60055177]\n",
            "Error in 40100th iteration: [43.60055177]\n",
            "Error in 40150th iteration: [43.60055177]\n",
            "Error in 40200th iteration: [43.60055177]\n",
            "Error in 40250th iteration: [43.60055177]\n",
            "Error in 40300th iteration: [43.60055177]\n",
            "Error in 40350th iteration: [43.60055177]\n",
            "Error in 40400th iteration: [43.60055177]\n",
            "Error in 40450th iteration: [43.60055177]\n",
            "Error in 40500th iteration: [43.60055177]\n",
            "Error in 40550th iteration: [43.60055177]\n",
            "Error in 40600th iteration: [43.60055177]\n",
            "Error in 40650th iteration: [43.60055177]\n",
            "Error in 40700th iteration: [43.60055177]\n",
            "Error in 40750th iteration: [43.60055177]\n",
            "Error in 40800th iteration: [43.60055177]\n",
            "Error in 40850th iteration: [43.60055177]\n",
            "Error in 40900th iteration: [43.60055177]\n",
            "Error in 40950th iteration: [43.60055177]\n",
            "Error in 41000th iteration: [43.60055177]\n",
            "Error in 41050th iteration: [43.60055177]\n",
            "Error in 41100th iteration: [43.60055177]\n",
            "Error in 41150th iteration: [43.60055177]\n",
            "Error in 41200th iteration: [43.60055177]\n",
            "Error in 41250th iteration: [43.60055177]\n",
            "Error in 41300th iteration: [43.60055177]\n",
            "Error in 41350th iteration: [43.60055177]\n",
            "Error in 41400th iteration: [43.60055177]\n",
            "Error in 41450th iteration: [43.60055177]\n",
            "Error in 41500th iteration: [43.60055177]\n",
            "Error in 41550th iteration: [43.60055177]\n",
            "Error in 41600th iteration: [43.60055177]\n",
            "Error in 41650th iteration: [43.60055177]\n",
            "Error in 41700th iteration: [43.60055177]\n",
            "Error in 41750th iteration: [43.60055177]\n",
            "Error in 41800th iteration: [43.60055177]\n",
            "Error in 41850th iteration: [43.60055177]\n",
            "Error in 41900th iteration: [43.60055177]\n",
            "Error in 41950th iteration: [43.60055177]\n",
            "Error in 42000th iteration: [43.60055177]\n",
            "Error in 42050th iteration: [43.60055177]\n",
            "Error in 42100th iteration: [43.60055177]\n",
            "Error in 42150th iteration: [43.60055177]\n",
            "Error in 42200th iteration: [43.60055177]\n",
            "Error in 42250th iteration: [43.60055177]\n",
            "Error in 42300th iteration: [43.60055177]\n",
            "Error in 42350th iteration: [43.60055177]\n",
            "Error in 42400th iteration: [43.60055177]\n",
            "Error in 42450th iteration: [43.60055177]\n",
            "Error in 42500th iteration: [43.60055177]\n",
            "Error in 42550th iteration: [43.60055177]\n",
            "Error in 42600th iteration: [43.60055177]\n",
            "Error in 42650th iteration: [43.60055177]\n",
            "Error in 42700th iteration: [43.60055177]\n",
            "Error in 42750th iteration: [43.60055177]\n",
            "Error in 42800th iteration: [43.60055177]\n",
            "Error in 42850th iteration: [43.60055177]\n",
            "Error in 42900th iteration: [43.60055177]\n",
            "Error in 42950th iteration: [43.60055177]\n",
            "Error in 43000th iteration: [43.60055177]\n",
            "Error in 43050th iteration: [43.60055177]\n",
            "Error in 43100th iteration: [43.60055177]\n",
            "Error in 43150th iteration: [43.60055177]\n",
            "Error in 43200th iteration: [43.60055177]\n",
            "Error in 43250th iteration: [43.60055177]\n",
            "Error in 43300th iteration: [43.60055177]\n",
            "Error in 43350th iteration: [43.60055177]\n",
            "Error in 43400th iteration: [43.60055177]\n",
            "Error in 43450th iteration: [43.60055177]\n",
            "Error in 43500th iteration: [43.60055177]\n",
            "Error in 43550th iteration: [43.60055177]\n",
            "Error in 43600th iteration: [43.60055177]\n",
            "Error in 43650th iteration: [43.60055177]\n",
            "Error in 43700th iteration: [43.60055177]\n",
            "Error in 43750th iteration: [43.60055177]\n",
            "Error in 43800th iteration: [43.60055177]\n",
            "Error in 43850th iteration: [43.60055177]\n",
            "Error in 43900th iteration: [43.60055177]\n",
            "Error in 43950th iteration: [43.60055177]\n",
            "Error in 44000th iteration: [43.60055177]\n",
            "Error in 44050th iteration: [43.60055177]\n",
            "Error in 44100th iteration: [43.60055177]\n",
            "Error in 44150th iteration: [43.60055177]\n",
            "Error in 44200th iteration: [43.60055177]\n",
            "Error in 44250th iteration: [43.60055177]\n",
            "Error in 44300th iteration: [43.60055177]\n",
            "Error in 44350th iteration: [43.60055177]\n",
            "Error in 44400th iteration: [43.60055177]\n",
            "Error in 44450th iteration: [43.60055177]\n",
            "Error in 44500th iteration: [43.60055177]\n",
            "Error in 44550th iteration: [43.60055177]\n",
            "Error in 44600th iteration: [43.60055177]\n",
            "Error in 44650th iteration: [43.60055177]\n",
            "Error in 44700th iteration: [43.60055177]\n",
            "Error in 44750th iteration: [43.60055177]\n",
            "Error in 44800th iteration: [43.60055177]\n",
            "Error in 44850th iteration: [43.60055177]\n",
            "Error in 44900th iteration: [43.60055177]\n",
            "Error in 44950th iteration: [43.60055177]\n",
            "Error in 45000th iteration: [43.60055177]\n",
            "Error in 45050th iteration: [43.60055177]\n",
            "Error in 45100th iteration: [43.60055177]\n",
            "Error in 45150th iteration: [43.60055177]\n",
            "Error in 45200th iteration: [43.60055177]\n",
            "Error in 45250th iteration: [43.60055177]\n",
            "Error in 45300th iteration: [43.60055177]\n",
            "Error in 45350th iteration: [43.60055177]\n",
            "Error in 45400th iteration: [43.60055177]\n",
            "Error in 45450th iteration: [43.60055177]\n",
            "Error in 45500th iteration: [43.60055177]\n",
            "Error in 45550th iteration: [43.60055177]\n",
            "Error in 45600th iteration: [43.60055177]\n",
            "Error in 45650th iteration: [43.60055177]\n",
            "Error in 45700th iteration: [43.60055177]\n",
            "Error in 45750th iteration: [43.60055177]\n",
            "Error in 45800th iteration: [43.60055177]\n",
            "Error in 45850th iteration: [43.60055177]\n",
            "Error in 45900th iteration: [43.60055177]\n",
            "Error in 45950th iteration: [43.60055177]\n",
            "Error in 46000th iteration: [43.60055177]\n",
            "Error in 46050th iteration: [43.60055177]\n",
            "Error in 46100th iteration: [43.60055177]\n",
            "Error in 46150th iteration: [43.60055177]\n",
            "Error in 46200th iteration: [43.60055177]\n",
            "Error in 46250th iteration: [43.60055177]\n",
            "Error in 46300th iteration: [43.60055177]\n",
            "Error in 46350th iteration: [43.60055177]\n",
            "Error in 46400th iteration: [43.60055177]\n",
            "Error in 46450th iteration: [43.60055177]\n",
            "Error in 46500th iteration: [43.60055177]\n",
            "Error in 46550th iteration: [43.60055177]\n",
            "Error in 46600th iteration: [43.60055177]\n",
            "Error in 46650th iteration: [43.60055177]\n",
            "Error in 46700th iteration: [43.60055177]\n",
            "Error in 46750th iteration: [43.60055177]\n",
            "Error in 46800th iteration: [43.60055177]\n",
            "Error in 46850th iteration: [43.60055177]\n",
            "Error in 46900th iteration: [43.60055177]\n",
            "Error in 46950th iteration: [43.60055177]\n",
            "Error in 47000th iteration: [43.60055177]\n",
            "Error in 47050th iteration: [43.60055177]\n",
            "Error in 47100th iteration: [43.60055177]\n",
            "Error in 47150th iteration: [43.60055177]\n",
            "Error in 47200th iteration: [43.60055177]\n",
            "Error in 47250th iteration: [43.60055177]\n",
            "Error in 47300th iteration: [43.60055177]\n",
            "Error in 47350th iteration: [43.60055177]\n",
            "Error in 47400th iteration: [43.60055177]\n",
            "Error in 47450th iteration: [43.60055177]\n",
            "Error in 47500th iteration: [43.60055177]\n",
            "Error in 47550th iteration: [43.60055177]\n",
            "Error in 47600th iteration: [43.60055177]\n",
            "Error in 47650th iteration: [43.60055177]\n",
            "Error in 47700th iteration: [43.60055177]\n",
            "Error in 47750th iteration: [43.60055177]\n",
            "Error in 47800th iteration: [43.60055177]\n",
            "Error in 47850th iteration: [43.60055177]\n",
            "Error in 47900th iteration: [43.60055177]\n",
            "Error in 47950th iteration: [43.60055177]\n",
            "Error in 48000th iteration: [43.60055177]\n",
            "Error in 48050th iteration: [43.60055177]\n",
            "Error in 48100th iteration: [43.60055177]\n",
            "Error in 48150th iteration: [43.60055177]\n",
            "Error in 48200th iteration: [43.60055177]\n",
            "Error in 48250th iteration: [43.60055177]\n",
            "Error in 48300th iteration: [43.60055177]\n",
            "Error in 48350th iteration: [43.60055177]\n",
            "Error in 48400th iteration: [43.60055177]\n",
            "Error in 48450th iteration: [43.60055177]\n",
            "Error in 48500th iteration: [43.60055177]\n",
            "Error in 48550th iteration: [43.60055177]\n",
            "Error in 48600th iteration: [43.60055177]\n",
            "Error in 48650th iteration: [43.60055177]\n",
            "Error in 48700th iteration: [43.60055177]\n",
            "Error in 48750th iteration: [43.60055177]\n",
            "Error in 48800th iteration: [43.60055177]\n",
            "Error in 48850th iteration: [43.60055177]\n",
            "Error in 48900th iteration: [43.60055177]\n",
            "Error in 48950th iteration: [43.60055177]\n",
            "Error in 49000th iteration: [43.60055177]\n",
            "Error in 49050th iteration: [43.60055177]\n",
            "Error in 49100th iteration: [43.60055177]\n",
            "Error in 49150th iteration: [43.60055177]\n",
            "Error in 49200th iteration: [43.60055177]\n",
            "Error in 49250th iteration: [43.60055177]\n",
            "Error in 49300th iteration: [43.60055177]\n",
            "Error in 49350th iteration: [43.60055177]\n",
            "Error in 49400th iteration: [43.60055177]\n",
            "Error in 49450th iteration: [43.60055177]\n",
            "Error in 49500th iteration: [43.60055177]\n",
            "Error in 49550th iteration: [43.60055177]\n",
            "Error in 49600th iteration: [43.60055177]\n",
            "Error in 49650th iteration: [43.60055177]\n",
            "Error in 49700th iteration: [43.60055177]\n",
            "Error in 49750th iteration: [43.60055177]\n",
            "Error in 49800th iteration: [43.60055177]\n",
            "Error in 49850th iteration: [43.60055177]\n",
            "Error in 49900th iteration: [43.60055177]\n",
            "Error in 49950th iteration: [43.60055177]\n",
            "Error in 50000th iteration: [43.60055177]\n",
            "Error in 50050th iteration: [43.60055177]\n",
            "Error in 50100th iteration: [43.60055177]\n",
            "Error in 50150th iteration: [43.60055177]\n",
            "Error in 50200th iteration: [43.60055177]\n",
            "Error in 50250th iteration: [43.60055177]\n",
            "Error in 50300th iteration: [43.60055177]\n",
            "Error in 50350th iteration: [43.60055177]\n",
            "Error in 50400th iteration: [43.60055177]\n",
            "Error in 50450th iteration: [43.60055177]\n",
            "Error in 50500th iteration: [43.60055177]\n",
            "Error in 50550th iteration: [43.60055177]\n",
            "Error in 50600th iteration: [43.60055177]\n",
            "Error in 50650th iteration: [43.60055177]\n",
            "Error in 50700th iteration: [43.60055177]\n",
            "Error in 50750th iteration: [43.60055177]\n",
            "Error in 50800th iteration: [43.60055177]\n",
            "Error in 50850th iteration: [43.60055177]\n",
            "Error in 50900th iteration: [43.60055177]\n",
            "Error in 50950th iteration: [43.60055177]\n",
            "Error in 51000th iteration: [43.60055177]\n",
            "Error in 51050th iteration: [43.60055177]\n",
            "Error in 51100th iteration: [43.60055177]\n",
            "Error in 51150th iteration: [43.60055177]\n",
            "Error in 51200th iteration: [43.60055177]\n",
            "Error in 51250th iteration: [43.60055177]\n",
            "Error in 51300th iteration: [43.60055177]\n",
            "Error in 51350th iteration: [43.60055177]\n",
            "Error in 51400th iteration: [43.60055177]\n",
            "Error in 51450th iteration: [43.60055177]\n",
            "Error in 51500th iteration: [43.60055177]\n",
            "Error in 51550th iteration: [43.60055177]\n",
            "Error in 51600th iteration: [43.60055177]\n",
            "Error in 51650th iteration: [43.60055177]\n",
            "Error in 51700th iteration: [43.60055177]\n",
            "Error in 51750th iteration: [43.60055177]\n",
            "Error in 51800th iteration: [43.60055177]\n",
            "Error in 51850th iteration: [43.60055177]\n",
            "Error in 51900th iteration: [43.60055177]\n",
            "Error in 51950th iteration: [43.60055177]\n",
            "Error in 52000th iteration: [43.60055177]\n",
            "Error in 52050th iteration: [43.60055177]\n",
            "Error in 52100th iteration: [43.60055177]\n",
            "Error in 52150th iteration: [43.60055177]\n",
            "Error in 52200th iteration: [43.60055177]\n",
            "Error in 52250th iteration: [43.60055177]\n",
            "Error in 52300th iteration: [43.60055177]\n",
            "Error in 52350th iteration: [43.60055177]\n",
            "Error in 52400th iteration: [43.60055177]\n",
            "Error in 52450th iteration: [43.60055177]\n",
            "Error in 52500th iteration: [43.60055177]\n",
            "Error in 52550th iteration: [43.60055177]\n",
            "Error in 52600th iteration: [43.60055177]\n",
            "Error in 52650th iteration: [43.60055177]\n",
            "Error in 52700th iteration: [43.60055177]\n",
            "Error in 52750th iteration: [43.60055177]\n",
            "Error in 52800th iteration: [43.60055177]\n",
            "Error in 52850th iteration: [43.60055177]\n",
            "Error in 52900th iteration: [43.60055177]\n",
            "Error in 52950th iteration: [43.60055177]\n",
            "Error in 53000th iteration: [43.60055177]\n",
            "Error in 53050th iteration: [43.60055177]\n",
            "Error in 53100th iteration: [43.60055177]\n",
            "Error in 53150th iteration: [43.60055177]\n",
            "Error in 53200th iteration: [43.60055177]\n",
            "Error in 53250th iteration: [43.60055177]\n",
            "Error in 53300th iteration: [43.60055177]\n",
            "Error in 53350th iteration: [43.60055177]\n",
            "Error in 53400th iteration: [43.60055177]\n",
            "Error in 53450th iteration: [43.60055177]\n",
            "Error in 53500th iteration: [43.60055177]\n",
            "Error in 53550th iteration: [43.60055177]\n",
            "Error in 53600th iteration: [43.60055177]\n",
            "Error in 53650th iteration: [43.60055177]\n",
            "Error in 53700th iteration: [43.60055177]\n",
            "Error in 53750th iteration: [43.60055177]\n",
            "Error in 53800th iteration: [43.60055177]\n",
            "Error in 53850th iteration: [43.60055177]\n",
            "Error in 53900th iteration: [43.60055177]\n",
            "Error in 53950th iteration: [43.60055177]\n",
            "Error in 54000th iteration: [43.60055177]\n",
            "Error in 54050th iteration: [43.60055177]\n",
            "Error in 54100th iteration: [43.60055177]\n",
            "Error in 54150th iteration: [43.60055177]\n",
            "Error in 54200th iteration: [43.60055177]\n",
            "Error in 54250th iteration: [43.60055177]\n",
            "Error in 54300th iteration: [43.60055177]\n",
            "Error in 54350th iteration: [43.60055177]\n",
            "Error in 54400th iteration: [43.60055177]\n",
            "Error in 54450th iteration: [43.60055177]\n",
            "Error in 54500th iteration: [43.60055177]\n",
            "Error in 54550th iteration: [43.60055177]\n",
            "Error in 54600th iteration: [43.60055177]\n",
            "Error in 54650th iteration: [43.60055177]\n",
            "Error in 54700th iteration: [43.60055177]\n",
            "Error in 54750th iteration: [43.60055177]\n",
            "Error in 54800th iteration: [43.60055177]\n",
            "Error in 54850th iteration: [43.60055177]\n",
            "Error in 54900th iteration: [43.60055177]\n",
            "Error in 54950th iteration: [43.60055177]\n",
            "Error in 55000th iteration: [43.60055177]\n",
            "Error in 55050th iteration: [43.60055177]\n",
            "Error in 55100th iteration: [43.60055177]\n",
            "Error in 55150th iteration: [43.60055177]\n",
            "Error in 55200th iteration: [43.60055177]\n",
            "Error in 55250th iteration: [43.60055177]\n",
            "Error in 55300th iteration: [43.60055177]\n",
            "Error in 55350th iteration: [43.60055177]\n",
            "Error in 55400th iteration: [43.60055177]\n",
            "Error in 55450th iteration: [43.60055177]\n",
            "Error in 55500th iteration: [43.60055177]\n",
            "Error in 55550th iteration: [43.60055177]\n",
            "Error in 55600th iteration: [43.60055177]\n",
            "Error in 55650th iteration: [43.60055177]\n",
            "Error in 55700th iteration: [43.60055177]\n",
            "Error in 55750th iteration: [43.60055177]\n",
            "Error in 55800th iteration: [43.60055177]\n",
            "Error in 55850th iteration: [43.60055177]\n",
            "Error in 55900th iteration: [43.60055177]\n",
            "Error in 55950th iteration: [43.60055177]\n",
            "Error in 56000th iteration: [43.60055177]\n",
            "Error in 56050th iteration: [43.60055177]\n",
            "Error in 56100th iteration: [43.60055177]\n",
            "Error in 56150th iteration: [43.60055177]\n",
            "Error in 56200th iteration: [43.60055177]\n",
            "Error in 56250th iteration: [43.60055177]\n",
            "Error in 56300th iteration: [43.60055177]\n",
            "Error in 56350th iteration: [43.60055177]\n",
            "Error in 56400th iteration: [43.60055177]\n",
            "Error in 56450th iteration: [43.60055177]\n",
            "Error in 56500th iteration: [43.60055177]\n",
            "Error in 56550th iteration: [43.60055177]\n",
            "Error in 56600th iteration: [43.60055177]\n",
            "Error in 56650th iteration: [43.60055177]\n",
            "Error in 56700th iteration: [43.60055177]\n",
            "Error in 56750th iteration: [43.60055177]\n",
            "Error in 56800th iteration: [43.60055177]\n",
            "Error in 56850th iteration: [43.60055177]\n",
            "Error in 56900th iteration: [43.60055177]\n",
            "Error in 56950th iteration: [43.60055177]\n",
            "Error in 57000th iteration: [43.60055177]\n",
            "Error in 57050th iteration: [43.60055177]\n",
            "Error in 57100th iteration: [43.60055177]\n",
            "Error in 57150th iteration: [43.60055177]\n",
            "Error in 57200th iteration: [43.60055177]\n",
            "Error in 57250th iteration: [43.60055177]\n",
            "Error in 57300th iteration: [43.60055177]\n",
            "Error in 57350th iteration: [43.60055177]\n",
            "Error in 57400th iteration: [43.60055177]\n",
            "Error in 57450th iteration: [43.60055177]\n",
            "Error in 57500th iteration: [43.60055177]\n",
            "Error in 57550th iteration: [43.60055177]\n",
            "Error in 57600th iteration: [43.60055177]\n",
            "Error in 57650th iteration: [43.60055177]\n",
            "Error in 57700th iteration: [43.60055177]\n",
            "Error in 57750th iteration: [43.60055177]\n",
            "Error in 57800th iteration: [43.60055177]\n",
            "Error in 57850th iteration: [43.60055177]\n",
            "Error in 57900th iteration: [43.60055177]\n",
            "Error in 57950th iteration: [43.60055177]\n",
            "Error in 58000th iteration: [43.60055177]\n",
            "Error in 58050th iteration: [43.60055177]\n",
            "Error in 58100th iteration: [43.60055177]\n",
            "Error in 58150th iteration: [43.60055177]\n",
            "Error in 58200th iteration: [43.60055177]\n",
            "Error in 58250th iteration: [43.60055177]\n",
            "Error in 58300th iteration: [43.60055177]\n",
            "Error in 58350th iteration: [43.60055177]\n",
            "Error in 58400th iteration: [43.60055177]\n",
            "Error in 58450th iteration: [43.60055177]\n",
            "Error in 58500th iteration: [43.60055177]\n",
            "Error in 58550th iteration: [43.60055177]\n",
            "Error in 58600th iteration: [43.60055177]\n",
            "Error in 58650th iteration: [43.60055177]\n",
            "Error in 58700th iteration: [43.60055177]\n",
            "Error in 58750th iteration: [43.60055177]\n",
            "Error in 58800th iteration: [43.60055177]\n",
            "Error in 58850th iteration: [43.60055177]\n",
            "Error in 58900th iteration: [43.60055177]\n",
            "Error in 58950th iteration: [43.60055177]\n",
            "Error in 59000th iteration: [43.60055177]\n",
            "Error in 59050th iteration: [43.60055177]\n",
            "Error in 59100th iteration: [43.60055177]\n",
            "Error in 59150th iteration: [43.60055177]\n",
            "Error in 59200th iteration: [43.60055177]\n",
            "Error in 59250th iteration: [43.60055177]\n",
            "Error in 59300th iteration: [43.60055177]\n",
            "Error in 59350th iteration: [43.60055177]\n",
            "Error in 59400th iteration: [43.60055177]\n",
            "Error in 59450th iteration: [43.60055177]\n",
            "Error in 59500th iteration: [43.60055177]\n",
            "Error in 59550th iteration: [43.60055177]\n",
            "Error in 59600th iteration: [43.60055177]\n",
            "Error in 59650th iteration: [43.60055177]\n",
            "Error in 59700th iteration: [43.60055177]\n",
            "Error in 59750th iteration: [43.60055177]\n",
            "Error in 59800th iteration: [43.60055177]\n",
            "Error in 59850th iteration: [43.60055177]\n",
            "Error in 59900th iteration: [43.60055177]\n",
            "Error in 59950th iteration: [43.60055177]\n",
            "Error in 60000th iteration: [43.60055177]\n",
            "Error in 60050th iteration: [43.60055177]\n",
            "Error in 60100th iteration: [43.60055177]\n",
            "Error in 60150th iteration: [43.60055177]\n",
            "Error in 60200th iteration: [43.60055177]\n",
            "Error in 60250th iteration: [43.60055177]\n",
            "Error in 60300th iteration: [43.60055177]\n",
            "Error in 60350th iteration: [43.60055177]\n",
            "Error in 60400th iteration: [43.60055177]\n",
            "Error in 60450th iteration: [43.60055177]\n",
            "Error in 60500th iteration: [43.60055177]\n",
            "Error in 60550th iteration: [43.60055177]\n",
            "Error in 60600th iteration: [43.60055177]\n",
            "Error in 60650th iteration: [43.60055177]\n",
            "Error in 60700th iteration: [43.60055177]\n",
            "Error in 60750th iteration: [43.60055177]\n",
            "Error in 60800th iteration: [43.60055177]\n",
            "Error in 60850th iteration: [43.60055177]\n",
            "Error in 60900th iteration: [43.60055177]\n",
            "Error in 60950th iteration: [43.60055177]\n",
            "Error in 61000th iteration: [43.60055177]\n",
            "Error in 61050th iteration: [43.60055177]\n",
            "Error in 61100th iteration: [43.60055177]\n",
            "Error in 61150th iteration: [43.60055177]\n",
            "Error in 61200th iteration: [43.60055177]\n",
            "Error in 61250th iteration: [43.60055177]\n",
            "Error in 61300th iteration: [43.60055177]\n",
            "Error in 61350th iteration: [43.60055177]\n",
            "Error in 61400th iteration: [43.60055177]\n",
            "Error in 61450th iteration: [43.60055177]\n",
            "Error in 61500th iteration: [43.60055177]\n",
            "Error in 61550th iteration: [43.60055177]\n",
            "Error in 61600th iteration: [43.60055177]\n",
            "Error in 61650th iteration: [43.60055177]\n",
            "Error in 61700th iteration: [43.60055177]\n",
            "Error in 61750th iteration: [43.60055177]\n",
            "Error in 61800th iteration: [43.60055177]\n",
            "Error in 61850th iteration: [43.60055177]\n",
            "Error in 61900th iteration: [43.60055177]\n",
            "Error in 61950th iteration: [43.60055177]\n",
            "Error in 62000th iteration: [43.60055177]\n",
            "Error in 62050th iteration: [43.60055177]\n",
            "Error in 62100th iteration: [43.60055177]\n",
            "Error in 62150th iteration: [43.60055177]\n",
            "Error in 62200th iteration: [43.60055177]\n",
            "Error in 62250th iteration: [43.60055177]\n",
            "Error in 62300th iteration: [43.60055177]\n",
            "Error in 62350th iteration: [43.60055177]\n",
            "Error in 62400th iteration: [43.60055177]\n",
            "Error in 62450th iteration: [43.60055177]\n",
            "Error in 62500th iteration: [43.60055177]\n",
            "Error in 62550th iteration: [43.60055177]\n",
            "Error in 62600th iteration: [43.60055177]\n",
            "Error in 62650th iteration: [43.60055177]\n",
            "Error in 62700th iteration: [43.60055177]\n",
            "Error in 62750th iteration: [43.60055177]\n",
            "Error in 62800th iteration: [43.60055177]\n",
            "Error in 62850th iteration: [43.60055177]\n",
            "Error in 62900th iteration: [43.60055177]\n",
            "Error in 62950th iteration: [43.60055177]\n",
            "Error in 63000th iteration: [43.60055177]\n",
            "Error in 63050th iteration: [43.60055177]\n",
            "Error in 63100th iteration: [43.60055177]\n",
            "Error in 63150th iteration: [43.60055177]\n",
            "Error in 63200th iteration: [43.60055177]\n",
            "Error in 63250th iteration: [43.60055177]\n",
            "Error in 63300th iteration: [43.60055177]\n",
            "Error in 63350th iteration: [43.60055177]\n",
            "Error in 63400th iteration: [43.60055177]\n",
            "Error in 63450th iteration: [43.60055177]\n",
            "Error in 63500th iteration: [43.60055177]\n",
            "Error in 63550th iteration: [43.60055177]\n",
            "Error in 63600th iteration: [43.60055177]\n",
            "Error in 63650th iteration: [43.60055177]\n",
            "Error in 63700th iteration: [43.60055177]\n",
            "Error in 63750th iteration: [43.60055177]\n",
            "Error in 63800th iteration: [43.60055177]\n",
            "Error in 63850th iteration: [43.60055177]\n",
            "Error in 63900th iteration: [43.60055177]\n",
            "Error in 63950th iteration: [43.60055177]\n",
            "Error in 64000th iteration: [43.60055177]\n",
            "Error in 64050th iteration: [43.60055177]\n",
            "Error in 64100th iteration: [43.60055177]\n",
            "Error in 64150th iteration: [43.60055177]\n",
            "Error in 64200th iteration: [43.60055177]\n",
            "Error in 64250th iteration: [43.60055177]\n",
            "Error in 64300th iteration: [43.60055177]\n",
            "Error in 64350th iteration: [43.60055177]\n",
            "Error in 64400th iteration: [43.60055177]\n",
            "Error in 64450th iteration: [43.60055177]\n",
            "Error in 64500th iteration: [43.60055177]\n",
            "Error in 64550th iteration: [43.60055177]\n",
            "Error in 64600th iteration: [43.60055177]\n",
            "Error in 64650th iteration: [43.60055177]\n",
            "Error in 64700th iteration: [43.60055177]\n",
            "Error in 64750th iteration: [43.60055177]\n",
            "Error in 64800th iteration: [43.60055177]\n",
            "Error in 64850th iteration: [43.60055177]\n",
            "Error in 64900th iteration: [43.60055177]\n",
            "Error in 64950th iteration: [43.60055177]\n",
            "Error in 65000th iteration: [43.60055177]\n",
            "Error in 65050th iteration: [43.60055177]\n",
            "Error in 65100th iteration: [43.60055177]\n",
            "Error in 65150th iteration: [43.60055177]\n",
            "Error in 65200th iteration: [43.60055177]\n",
            "Error in 65250th iteration: [43.60055177]\n",
            "Error in 65300th iteration: [43.60055177]\n",
            "Error in 65350th iteration: [43.60055177]\n",
            "Error in 65400th iteration: [43.60055177]\n",
            "Error in 65450th iteration: [43.60055177]\n",
            "Error in 65500th iteration: [43.60055177]\n",
            "Error in 65550th iteration: [43.60055177]\n",
            "Error in 65600th iteration: [43.60055177]\n",
            "Error in 65650th iteration: [43.60055177]\n",
            "Error in 65700th iteration: [43.60055177]\n",
            "Error in 65750th iteration: [43.60055177]\n",
            "Error in 65800th iteration: [43.60055177]\n",
            "Error in 65850th iteration: [43.60055177]\n",
            "Error in 65900th iteration: [43.60055177]\n",
            "Error in 65950th iteration: [43.60055177]\n",
            "Error in 66000th iteration: [43.60055177]\n",
            "Error in 66050th iteration: [43.60055177]\n",
            "Error in 66100th iteration: [43.60055177]\n",
            "Error in 66150th iteration: [43.60055177]\n",
            "Error in 66200th iteration: [43.60055177]\n",
            "Error in 66250th iteration: [43.60055177]\n",
            "Error in 66300th iteration: [43.60055177]\n",
            "Error in 66350th iteration: [43.60055177]\n",
            "Error in 66400th iteration: [43.60055177]\n",
            "Error in 66450th iteration: [43.60055177]\n",
            "Error in 66500th iteration: [43.60055177]\n",
            "Error in 66550th iteration: [43.60055177]\n",
            "Error in 66600th iteration: [43.60055177]\n",
            "Error in 66650th iteration: [43.60055177]\n",
            "Error in 66700th iteration: [43.60055177]\n",
            "Error in 66750th iteration: [43.60055177]\n",
            "Error in 66800th iteration: [43.60055177]\n",
            "Error in 66850th iteration: [43.60055177]\n",
            "Error in 66900th iteration: [43.60055177]\n",
            "Error in 66950th iteration: [43.60055177]\n",
            "Error in 67000th iteration: [43.60055177]\n",
            "Error in 67050th iteration: [43.60055177]\n",
            "Error in 67100th iteration: [43.60055177]\n",
            "Error in 67150th iteration: [43.60055177]\n",
            "Error in 67200th iteration: [43.60055177]\n",
            "Error in 67250th iteration: [43.60055177]\n",
            "Error in 67300th iteration: [43.60055177]\n",
            "Error in 67350th iteration: [43.60055177]\n",
            "Error in 67400th iteration: [43.60055177]\n",
            "Error in 67450th iteration: [43.60055177]\n",
            "Error in 67500th iteration: [43.60055177]\n",
            "Error in 67550th iteration: [43.60055177]\n",
            "Error in 67600th iteration: [43.60055177]\n",
            "Error in 67650th iteration: [43.60055177]\n",
            "Error in 67700th iteration: [43.60055177]\n",
            "Error in 67750th iteration: [43.60055177]\n",
            "Error in 67800th iteration: [43.60055177]\n",
            "Error in 67850th iteration: [43.60055177]\n",
            "Error in 67900th iteration: [43.60055177]\n",
            "Error in 67950th iteration: [43.60055177]\n",
            "Error in 68000th iteration: [43.60055177]\n",
            "Error in 68050th iteration: [43.60055177]\n",
            "Error in 68100th iteration: [43.60055177]\n",
            "Error in 68150th iteration: [43.60055177]\n",
            "Error in 68200th iteration: [43.60055177]\n",
            "Error in 68250th iteration: [43.60055177]\n",
            "Error in 68300th iteration: [43.60055177]\n",
            "Error in 68350th iteration: [43.60055177]\n",
            "Error in 68400th iteration: [43.60055177]\n",
            "Error in 68450th iteration: [43.60055177]\n",
            "Error in 68500th iteration: [43.60055177]\n",
            "Error in 68550th iteration: [43.60055177]\n",
            "Error in 68600th iteration: [43.60055177]\n",
            "Error in 68650th iteration: [43.60055177]\n",
            "Error in 68700th iteration: [43.60055177]\n",
            "Error in 68750th iteration: [43.60055177]\n",
            "Error in 68800th iteration: [43.60055177]\n",
            "Error in 68850th iteration: [43.60055177]\n",
            "Error in 68900th iteration: [43.60055177]\n",
            "Error in 68950th iteration: [43.60055177]\n",
            "Error in 69000th iteration: [43.60055177]\n",
            "Error in 69050th iteration: [43.60055177]\n",
            "Error in 69100th iteration: [43.60055177]\n",
            "Error in 69150th iteration: [43.60055177]\n",
            "Error in 69200th iteration: [43.60055177]\n",
            "Error in 69250th iteration: [43.60055177]\n",
            "Error in 69300th iteration: [43.60055177]\n",
            "Error in 69350th iteration: [43.60055177]\n",
            "Error in 69400th iteration: [43.60055177]\n",
            "Error in 69450th iteration: [43.60055177]\n",
            "Error in 69500th iteration: [43.60055177]\n",
            "Error in 69550th iteration: [43.60055177]\n",
            "Error in 69600th iteration: [43.60055177]\n",
            "Error in 69650th iteration: [43.60055177]\n",
            "Error in 69700th iteration: [43.60055177]\n",
            "Error in 69750th iteration: [43.60055177]\n",
            "Error in 69800th iteration: [43.60055177]\n",
            "Error in 69850th iteration: [43.60055177]\n",
            "Error in 69900th iteration: [43.60055177]\n",
            "Error in 69950th iteration: [43.60055177]\n",
            "Error in 70000th iteration: [43.60055177]\n",
            "Error in 70050th iteration: [43.60055177]\n",
            "Error in 70100th iteration: [43.60055177]\n",
            "Error in 70150th iteration: [43.60055177]\n",
            "Error in 70200th iteration: [43.60055177]\n",
            "Error in 70250th iteration: [43.60055177]\n",
            "Error in 70300th iteration: [43.60055177]\n",
            "Error in 70350th iteration: [43.60055177]\n",
            "Error in 70400th iteration: [43.60055177]\n",
            "Error in 70450th iteration: [43.60055177]\n",
            "Error in 70500th iteration: [43.60055177]\n",
            "Error in 70550th iteration: [43.60055177]\n",
            "Error in 70600th iteration: [43.60055177]\n",
            "Error in 70650th iteration: [43.60055177]\n",
            "Error in 70700th iteration: [43.60055177]\n",
            "Error in 70750th iteration: [43.60055177]\n",
            "Error in 70800th iteration: [43.60055177]\n",
            "Error in 70850th iteration: [43.60055177]\n",
            "Error in 70900th iteration: [43.60055177]\n",
            "Error in 70950th iteration: [43.60055177]\n",
            "Error in 71000th iteration: [43.60055177]\n",
            "Error in 71050th iteration: [43.60055177]\n",
            "Error in 71100th iteration: [43.60055177]\n",
            "Error in 71150th iteration: [43.60055177]\n",
            "Error in 71200th iteration: [43.60055177]\n",
            "Error in 71250th iteration: [43.60055177]\n",
            "Error in 71300th iteration: [43.60055177]\n",
            "Error in 71350th iteration: [43.60055177]\n",
            "Error in 71400th iteration: [43.60055177]\n",
            "Error in 71450th iteration: [43.60055177]\n",
            "Error in 71500th iteration: [43.60055177]\n",
            "Error in 71550th iteration: [43.60055177]\n",
            "Error in 71600th iteration: [43.60055177]\n",
            "Error in 71650th iteration: [43.60055177]\n",
            "Error in 71700th iteration: [43.60055177]\n",
            "Error in 71750th iteration: [43.60055177]\n",
            "Error in 71800th iteration: [43.60055177]\n",
            "Error in 71850th iteration: [43.60055177]\n",
            "Error in 71900th iteration: [43.60055177]\n",
            "Error in 71950th iteration: [43.60055177]\n",
            "Error in 72000th iteration: [43.60055177]\n",
            "Error in 72050th iteration: [43.60055177]\n",
            "Error in 72100th iteration: [43.60055177]\n",
            "Error in 72150th iteration: [43.60055177]\n",
            "Error in 72200th iteration: [43.60055177]\n",
            "Error in 72250th iteration: [43.60055177]\n",
            "Error in 72300th iteration: [43.60055177]\n",
            "Error in 72350th iteration: [43.60055177]\n",
            "Error in 72400th iteration: [43.60055177]\n",
            "Error in 72450th iteration: [43.60055177]\n",
            "Error in 72500th iteration: [43.60055177]\n",
            "Error in 72550th iteration: [43.60055177]\n",
            "Error in 72600th iteration: [43.60055177]\n",
            "Error in 72650th iteration: [43.60055177]\n",
            "Error in 72700th iteration: [43.60055177]\n",
            "Error in 72750th iteration: [43.60055177]\n",
            "Error in 72800th iteration: [43.60055177]\n",
            "Error in 72850th iteration: [43.60055177]\n",
            "Error in 72900th iteration: [43.60055177]\n",
            "Error in 72950th iteration: [43.60055177]\n",
            "Error in 73000th iteration: [43.60055177]\n",
            "Error in 73050th iteration: [43.60055177]\n",
            "Error in 73100th iteration: [43.60055177]\n",
            "Error in 73150th iteration: [43.60055177]\n",
            "Error in 73200th iteration: [43.60055177]\n",
            "Error in 73250th iteration: [43.60055177]\n",
            "Error in 73300th iteration: [43.60055177]\n",
            "Error in 73350th iteration: [43.60055177]\n",
            "Error in 73400th iteration: [43.60055177]\n",
            "Error in 73450th iteration: [43.60055177]\n",
            "Error in 73500th iteration: [43.60055177]\n",
            "Error in 73550th iteration: [43.60055177]\n",
            "Error in 73600th iteration: [43.60055177]\n",
            "Error in 73650th iteration: [43.60055177]\n",
            "Error in 73700th iteration: [43.60055177]\n",
            "Error in 73750th iteration: [43.60055177]\n",
            "Error in 73800th iteration: [43.60055177]\n",
            "Error in 73850th iteration: [43.60055177]\n",
            "Error in 73900th iteration: [43.60055177]\n",
            "Error in 73950th iteration: [43.60055177]\n",
            "Error in 74000th iteration: [43.60055177]\n",
            "Error in 74050th iteration: [43.60055177]\n",
            "Error in 74100th iteration: [43.60055177]\n",
            "Error in 74150th iteration: [43.60055177]\n",
            "Error in 74200th iteration: [43.60055177]\n",
            "Error in 74250th iteration: [43.60055177]\n",
            "Error in 74300th iteration: [43.60055177]\n",
            "Error in 74350th iteration: [43.60055177]\n",
            "Error in 74400th iteration: [43.60055177]\n",
            "Error in 74450th iteration: [43.60055177]\n",
            "Error in 74500th iteration: [43.60055177]\n",
            "Error in 74550th iteration: [43.60055177]\n",
            "Error in 74600th iteration: [43.60055177]\n",
            "Error in 74650th iteration: [43.60055177]\n",
            "Error in 74700th iteration: [43.60055177]\n",
            "Error in 74750th iteration: [43.60055177]\n",
            "Error in 74800th iteration: [43.60055177]\n",
            "Error in 74850th iteration: [43.60055177]\n",
            "Error in 74900th iteration: [43.60055177]\n",
            "Error in 74950th iteration: [43.60055177]\n",
            "Error in 75000th iteration: [43.60055177]\n",
            "Error in 75050th iteration: [43.60055177]\n",
            "Error in 75100th iteration: [43.60055177]\n",
            "Error in 75150th iteration: [43.60055177]\n",
            "Error in 75200th iteration: [43.60055177]\n",
            "Error in 75250th iteration: [43.60055177]\n",
            "Error in 75300th iteration: [43.60055177]\n",
            "Error in 75350th iteration: [43.60055177]\n",
            "Error in 75400th iteration: [43.60055177]\n",
            "Error in 75450th iteration: [43.60055177]\n",
            "Error in 75500th iteration: [43.60055177]\n",
            "Error in 75550th iteration: [43.60055177]\n",
            "Error in 75600th iteration: [43.60055177]\n",
            "Error in 75650th iteration: [43.60055177]\n",
            "Error in 75700th iteration: [43.60055177]\n",
            "Error in 75750th iteration: [43.60055177]\n",
            "Error in 75800th iteration: [43.60055177]\n",
            "Error in 75850th iteration: [43.60055177]\n",
            "Error in 75900th iteration: [43.60055177]\n",
            "Error in 75950th iteration: [43.60055177]\n",
            "Error in 76000th iteration: [43.60055177]\n",
            "Error in 76050th iteration: [43.60055177]\n",
            "Error in 76100th iteration: [43.60055177]\n",
            "Error in 76150th iteration: [43.60055177]\n",
            "Error in 76200th iteration: [43.60055177]\n",
            "Error in 76250th iteration: [43.60055177]\n",
            "Error in 76300th iteration: [43.60055177]\n",
            "Error in 76350th iteration: [43.60055177]\n",
            "Error in 76400th iteration: [43.60055177]\n",
            "Error in 76450th iteration: [43.60055177]\n",
            "Error in 76500th iteration: [43.60055177]\n",
            "Error in 76550th iteration: [43.60055177]\n",
            "Error in 76600th iteration: [43.60055177]\n",
            "Error in 76650th iteration: [43.60055177]\n",
            "Error in 76700th iteration: [43.60055177]\n",
            "Error in 76750th iteration: [43.60055177]\n",
            "Error in 76800th iteration: [43.60055177]\n",
            "Error in 76850th iteration: [43.60055177]\n",
            "Error in 76900th iteration: [43.60055177]\n",
            "Error in 76950th iteration: [43.60055177]\n",
            "Error in 77000th iteration: [43.60055177]\n",
            "Error in 77050th iteration: [43.60055177]\n",
            "Error in 77100th iteration: [43.60055177]\n",
            "Error in 77150th iteration: [43.60055177]\n",
            "Error in 77200th iteration: [43.60055177]\n",
            "Error in 77250th iteration: [43.60055177]\n",
            "Error in 77300th iteration: [43.60055177]\n",
            "Error in 77350th iteration: [43.60055177]\n",
            "Error in 77400th iteration: [43.60055177]\n",
            "Error in 77450th iteration: [43.60055177]\n",
            "Error in 77500th iteration: [43.60055177]\n",
            "Error in 77550th iteration: [43.60055177]\n",
            "Error in 77600th iteration: [43.60055177]\n",
            "Error in 77650th iteration: [43.60055177]\n",
            "Error in 77700th iteration: [43.60055177]\n",
            "Error in 77750th iteration: [43.60055177]\n",
            "Error in 77800th iteration: [43.60055177]\n",
            "Error in 77850th iteration: [43.60055177]\n",
            "Error in 77900th iteration: [43.60055177]\n",
            "Error in 77950th iteration: [43.60055177]\n",
            "Error in 78000th iteration: [43.60055177]\n",
            "Error in 78050th iteration: [43.60055177]\n",
            "Error in 78100th iteration: [43.60055177]\n",
            "Error in 78150th iteration: [43.60055177]\n",
            "Error in 78200th iteration: [43.60055177]\n",
            "Error in 78250th iteration: [43.60055177]\n",
            "Error in 78300th iteration: [43.60055177]\n",
            "Error in 78350th iteration: [43.60055177]\n",
            "Error in 78400th iteration: [43.60055177]\n",
            "Error in 78450th iteration: [43.60055177]\n",
            "Error in 78500th iteration: [43.60055177]\n",
            "Error in 78550th iteration: [43.60055177]\n",
            "Error in 78600th iteration: [43.60055177]\n",
            "Error in 78650th iteration: [43.60055177]\n",
            "Error in 78700th iteration: [43.60055177]\n",
            "Error in 78750th iteration: [43.60055177]\n",
            "Error in 78800th iteration: [43.60055177]\n",
            "Error in 78850th iteration: [43.60055177]\n",
            "Error in 78900th iteration: [43.60055177]\n",
            "Error in 78950th iteration: [43.60055177]\n",
            "Error in 79000th iteration: [43.60055177]\n",
            "Error in 79050th iteration: [43.60055177]\n",
            "Error in 79100th iteration: [43.60055177]\n",
            "Error in 79150th iteration: [43.60055177]\n",
            "Error in 79200th iteration: [43.60055177]\n",
            "Error in 79250th iteration: [43.60055177]\n",
            "Error in 79300th iteration: [43.60055177]\n",
            "Error in 79350th iteration: [43.60055177]\n",
            "Error in 79400th iteration: [43.60055177]\n",
            "Error in 79450th iteration: [43.60055177]\n",
            "Error in 79500th iteration: [43.60055177]\n",
            "Error in 79550th iteration: [43.60055177]\n",
            "Error in 79600th iteration: [43.60055177]\n",
            "Error in 79650th iteration: [43.60055177]\n",
            "Error in 79700th iteration: [43.60055177]\n",
            "Error in 79750th iteration: [43.60055177]\n",
            "Error in 79800th iteration: [43.60055177]\n",
            "Error in 79850th iteration: [43.60055177]\n",
            "Error in 79900th iteration: [43.60055177]\n",
            "Error in 79950th iteration: [43.60055177]\n",
            "Error in 80000th iteration: [43.60055177]\n",
            "Error in 80050th iteration: [43.60055177]\n",
            "Error in 80100th iteration: [43.60055177]\n",
            "Error in 80150th iteration: [43.60055177]\n",
            "Error in 80200th iteration: [43.60055177]\n",
            "Error in 80250th iteration: [43.60055177]\n",
            "Error in 80300th iteration: [43.60055177]\n",
            "Error in 80350th iteration: [43.60055177]\n",
            "Error in 80400th iteration: [43.60055177]\n",
            "Error in 80450th iteration: [43.60055177]\n",
            "Error in 80500th iteration: [43.60055177]\n",
            "Error in 80550th iteration: [43.60055177]\n",
            "Error in 80600th iteration: [43.60055177]\n",
            "Error in 80650th iteration: [43.60055177]\n",
            "Error in 80700th iteration: [43.60055177]\n",
            "Error in 80750th iteration: [43.60055177]\n",
            "Error in 80800th iteration: [43.60055177]\n",
            "Error in 80850th iteration: [43.60055177]\n",
            "Error in 80900th iteration: [43.60055177]\n",
            "Error in 80950th iteration: [43.60055177]\n",
            "Error in 81000th iteration: [43.60055177]\n",
            "Error in 81050th iteration: [43.60055177]\n",
            "Error in 81100th iteration: [43.60055177]\n",
            "Error in 81150th iteration: [43.60055177]\n",
            "Error in 81200th iteration: [43.60055177]\n",
            "Error in 81250th iteration: [43.60055177]\n",
            "Error in 81300th iteration: [43.60055177]\n",
            "Error in 81350th iteration: [43.60055177]\n",
            "Error in 81400th iteration: [43.60055177]\n",
            "Error in 81450th iteration: [43.60055177]\n",
            "Error in 81500th iteration: [43.60055177]\n",
            "Error in 81550th iteration: [43.60055177]\n",
            "Error in 81600th iteration: [43.60055177]\n",
            "Error in 81650th iteration: [43.60055177]\n",
            "Error in 81700th iteration: [43.60055177]\n",
            "Error in 81750th iteration: [43.60055177]\n",
            "Error in 81800th iteration: [43.60055177]\n",
            "Error in 81850th iteration: [43.60055177]\n",
            "Error in 81900th iteration: [43.60055177]\n",
            "Error in 81950th iteration: [43.60055177]\n",
            "Error in 82000th iteration: [43.60055177]\n",
            "Error in 82050th iteration: [43.60055177]\n",
            "Error in 82100th iteration: [43.60055177]\n",
            "Error in 82150th iteration: [43.60055177]\n",
            "Error in 82200th iteration: [43.60055177]\n",
            "Error in 82250th iteration: [43.60055177]\n",
            "Error in 82300th iteration: [43.60055177]\n",
            "Error in 82350th iteration: [43.60055177]\n",
            "Error in 82400th iteration: [43.60055177]\n",
            "Error in 82450th iteration: [43.60055177]\n",
            "Error in 82500th iteration: [43.60055177]\n",
            "Error in 82550th iteration: [43.60055177]\n",
            "Error in 82600th iteration: [43.60055177]\n",
            "Error in 82650th iteration: [43.60055177]\n",
            "Error in 82700th iteration: [43.60055177]\n",
            "Error in 82750th iteration: [43.60055177]\n",
            "Error in 82800th iteration: [43.60055177]\n",
            "Error in 82850th iteration: [43.60055177]\n",
            "Error in 82900th iteration: [43.60055177]\n",
            "Error in 82950th iteration: [43.60055177]\n",
            "Error in 83000th iteration: [43.60055177]\n",
            "Error in 83050th iteration: [43.60055177]\n",
            "Error in 83100th iteration: [43.60055177]\n",
            "Error in 83150th iteration: [43.60055177]\n",
            "Error in 83200th iteration: [43.60055177]\n",
            "Error in 83250th iteration: [43.60055177]\n",
            "Error in 83300th iteration: [43.60055177]\n",
            "Error in 83350th iteration: [43.60055177]\n",
            "Error in 83400th iteration: [43.60055177]\n",
            "Error in 83450th iteration: [43.60055177]\n",
            "Error in 83500th iteration: [43.60055177]\n",
            "Error in 83550th iteration: [43.60055177]\n",
            "Error in 83600th iteration: [43.60055177]\n",
            "Error in 83650th iteration: [43.60055177]\n",
            "Error in 83700th iteration: [43.60055177]\n",
            "Error in 83750th iteration: [43.60055177]\n",
            "Error in 83800th iteration: [43.60055177]\n",
            "Error in 83850th iteration: [43.60055177]\n",
            "Error in 83900th iteration: [43.60055177]\n",
            "Error in 83950th iteration: [43.60055177]\n",
            "Error in 84000th iteration: [43.60055177]\n",
            "Error in 84050th iteration: [43.60055177]\n",
            "Error in 84100th iteration: [43.60055177]\n",
            "Error in 84150th iteration: [43.60055177]\n",
            "Error in 84200th iteration: [43.60055177]\n",
            "Error in 84250th iteration: [43.60055177]\n",
            "Error in 84300th iteration: [43.60055177]\n",
            "Error in 84350th iteration: [43.60055177]\n",
            "Error in 84400th iteration: [43.60055177]\n",
            "Error in 84450th iteration: [43.60055177]\n",
            "Error in 84500th iteration: [43.60055177]\n",
            "Error in 84550th iteration: [43.60055177]\n",
            "Error in 84600th iteration: [43.60055177]\n",
            "Error in 84650th iteration: [43.60055177]\n",
            "Error in 84700th iteration: [43.60055177]\n",
            "Error in 84750th iteration: [43.60055177]\n",
            "Error in 84800th iteration: [43.60055177]\n",
            "Error in 84850th iteration: [43.60055177]\n",
            "Error in 84900th iteration: [43.60055177]\n",
            "Error in 84950th iteration: [43.60055177]\n",
            "Error in 85000th iteration: [43.60055177]\n",
            "Error in 85050th iteration: [43.60055177]\n",
            "Error in 85100th iteration: [43.60055177]\n",
            "Error in 85150th iteration: [43.60055177]\n",
            "Error in 85200th iteration: [43.60055177]\n",
            "Error in 85250th iteration: [43.60055177]\n",
            "Error in 85300th iteration: [43.60055177]\n",
            "Error in 85350th iteration: [43.60055177]\n",
            "Error in 85400th iteration: [43.60055177]\n",
            "Error in 85450th iteration: [43.60055177]\n",
            "Error in 85500th iteration: [43.60055177]\n",
            "Error in 85550th iteration: [43.60055177]\n",
            "Error in 85600th iteration: [43.60055177]\n",
            "Error in 85650th iteration: [43.60055177]\n",
            "Error in 85700th iteration: [43.60055177]\n",
            "Error in 85750th iteration: [43.60055177]\n",
            "Error in 85800th iteration: [43.60055177]\n",
            "Error in 85850th iteration: [43.60055177]\n",
            "Error in 85900th iteration: [43.60055177]\n",
            "Error in 85950th iteration: [43.60055177]\n",
            "Error in 86000th iteration: [43.60055177]\n",
            "Error in 86050th iteration: [43.60055177]\n",
            "Error in 86100th iteration: [43.60055177]\n",
            "Error in 86150th iteration: [43.60055177]\n",
            "Error in 86200th iteration: [43.60055177]\n",
            "Error in 86250th iteration: [43.60055177]\n",
            "Error in 86300th iteration: [43.60055177]\n",
            "Error in 86350th iteration: [43.60055177]\n",
            "Error in 86400th iteration: [43.60055177]\n",
            "Error in 86450th iteration: [43.60055177]\n",
            "Error in 86500th iteration: [43.60055177]\n",
            "Error in 86550th iteration: [43.60055177]\n",
            "Error in 86600th iteration: [43.60055177]\n",
            "Error in 86650th iteration: [43.60055177]\n",
            "Error in 86700th iteration: [43.60055177]\n",
            "Error in 86750th iteration: [43.60055177]\n",
            "Error in 86800th iteration: [43.60055177]\n",
            "Error in 86850th iteration: [43.60055177]\n",
            "Error in 86900th iteration: [43.60055177]\n",
            "Error in 86950th iteration: [43.60055177]\n",
            "Error in 87000th iteration: [43.60055177]\n",
            "Error in 87050th iteration: [43.60055177]\n",
            "Error in 87100th iteration: [43.60055177]\n",
            "Error in 87150th iteration: [43.60055177]\n",
            "Error in 87200th iteration: [43.60055177]\n",
            "Error in 87250th iteration: [43.60055177]\n",
            "Error in 87300th iteration: [43.60055177]\n",
            "Error in 87350th iteration: [43.60055177]\n",
            "Error in 87400th iteration: [43.60055177]\n",
            "Error in 87450th iteration: [43.60055177]\n",
            "Error in 87500th iteration: [43.60055177]\n",
            "Error in 87550th iteration: [43.60055177]\n",
            "Error in 87600th iteration: [43.60055177]\n",
            "Error in 87650th iteration: [43.60055177]\n",
            "Error in 87700th iteration: [43.60055177]\n",
            "Error in 87750th iteration: [43.60055177]\n",
            "Error in 87800th iteration: [43.60055177]\n",
            "Error in 87850th iteration: [43.60055177]\n",
            "Error in 87900th iteration: [43.60055177]\n",
            "Error in 87950th iteration: [43.60055177]\n",
            "Error in 88000th iteration: [43.60055177]\n",
            "Error in 88050th iteration: [43.60055177]\n",
            "Error in 88100th iteration: [43.60055177]\n",
            "Error in 88150th iteration: [43.60055177]\n",
            "Error in 88200th iteration: [43.60055177]\n",
            "Error in 88250th iteration: [43.60055177]\n",
            "Error in 88300th iteration: [43.60055177]\n",
            "Error in 88350th iteration: [43.60055177]\n",
            "Error in 88400th iteration: [43.60055177]\n",
            "Error in 88450th iteration: [43.60055177]\n",
            "Error in 88500th iteration: [43.60055177]\n",
            "Error in 88550th iteration: [43.60055177]\n",
            "Error in 88600th iteration: [43.60055177]\n",
            "Error in 88650th iteration: [43.60055177]\n",
            "Error in 88700th iteration: [43.60055177]\n",
            "Error in 88750th iteration: [43.60055177]\n",
            "Error in 88800th iteration: [43.60055177]\n",
            "Error in 88850th iteration: [43.60055177]\n",
            "Error in 88900th iteration: [43.60055177]\n",
            "Error in 88950th iteration: [43.60055177]\n",
            "Error in 89000th iteration: [43.60055177]\n",
            "Error in 89050th iteration: [43.60055177]\n",
            "Error in 89100th iteration: [43.60055177]\n",
            "Error in 89150th iteration: [43.60055177]\n",
            "Error in 89200th iteration: [43.60055177]\n",
            "Error in 89250th iteration: [43.60055177]\n",
            "Error in 89300th iteration: [43.60055177]\n",
            "Error in 89350th iteration: [43.60055177]\n",
            "Error in 89400th iteration: [43.60055177]\n",
            "Error in 89450th iteration: [43.60055177]\n",
            "Error in 89500th iteration: [43.60055177]\n",
            "Error in 89550th iteration: [43.60055177]\n",
            "Error in 89600th iteration: [43.60055177]\n",
            "Error in 89650th iteration: [43.60055177]\n",
            "Error in 89700th iteration: [43.60055177]\n",
            "Error in 89750th iteration: [43.60055177]\n",
            "Error in 89800th iteration: [43.60055177]\n",
            "Error in 89850th iteration: [43.60055177]\n",
            "Error in 89900th iteration: [43.60055177]\n",
            "Error in 89950th iteration: [43.60055177]\n",
            "Error in 90000th iteration: [43.60055177]\n",
            "Error in 90050th iteration: [43.60055177]\n",
            "Error in 90100th iteration: [43.60055177]\n",
            "Error in 90150th iteration: [43.60055177]\n",
            "Error in 90200th iteration: [43.60055177]\n",
            "Error in 90250th iteration: [43.60055177]\n",
            "Error in 90300th iteration: [43.60055177]\n",
            "Error in 90350th iteration: [43.60055177]\n",
            "Error in 90400th iteration: [43.60055177]\n",
            "Error in 90450th iteration: [43.60055177]\n",
            "Error in 90500th iteration: [43.60055177]\n",
            "Error in 90550th iteration: [43.60055177]\n",
            "Error in 90600th iteration: [43.60055177]\n",
            "Error in 90650th iteration: [43.60055177]\n",
            "Error in 90700th iteration: [43.60055177]\n",
            "Error in 90750th iteration: [43.60055177]\n",
            "Error in 90800th iteration: [43.60055177]\n",
            "Error in 90850th iteration: [43.60055177]\n",
            "Error in 90900th iteration: [43.60055177]\n",
            "Error in 90950th iteration: [43.60055177]\n",
            "Error in 91000th iteration: [43.60055177]\n",
            "Error in 91050th iteration: [43.60055177]\n",
            "Error in 91100th iteration: [43.60055177]\n",
            "Error in 91150th iteration: [43.60055177]\n",
            "Error in 91200th iteration: [43.60055177]\n",
            "Error in 91250th iteration: [43.60055177]\n",
            "Error in 91300th iteration: [43.60055177]\n",
            "Error in 91350th iteration: [43.60055177]\n",
            "Error in 91400th iteration: [43.60055177]\n",
            "Error in 91450th iteration: [43.60055177]\n",
            "Error in 91500th iteration: [43.60055177]\n",
            "Error in 91550th iteration: [43.60055177]\n",
            "Error in 91600th iteration: [43.60055177]\n",
            "Error in 91650th iteration: [43.60055177]\n",
            "Error in 91700th iteration: [43.60055177]\n",
            "Error in 91750th iteration: [43.60055177]\n",
            "Error in 91800th iteration: [43.60055177]\n",
            "Error in 91850th iteration: [43.60055177]\n",
            "Error in 91900th iteration: [43.60055177]\n",
            "Error in 91950th iteration: [43.60055177]\n",
            "Error in 92000th iteration: [43.60055177]\n",
            "Error in 92050th iteration: [43.60055177]\n",
            "Error in 92100th iteration: [43.60055177]\n",
            "Error in 92150th iteration: [43.60055177]\n",
            "Error in 92200th iteration: [43.60055177]\n",
            "Error in 92250th iteration: [43.60055177]\n",
            "Error in 92300th iteration: [43.60055177]\n",
            "Error in 92350th iteration: [43.60055177]\n",
            "Error in 92400th iteration: [43.60055177]\n",
            "Error in 92450th iteration: [43.60055177]\n",
            "Error in 92500th iteration: [43.60055177]\n",
            "Error in 92550th iteration: [43.60055177]\n",
            "Error in 92600th iteration: [43.60055177]\n",
            "Error in 92650th iteration: [43.60055177]\n",
            "Error in 92700th iteration: [43.60055177]\n",
            "Error in 92750th iteration: [43.60055177]\n",
            "Error in 92800th iteration: [43.60055177]\n",
            "Error in 92850th iteration: [43.60055177]\n",
            "Error in 92900th iteration: [43.60055177]\n",
            "Error in 92950th iteration: [43.60055177]\n",
            "Error in 93000th iteration: [43.60055177]\n",
            "Error in 93050th iteration: [43.60055177]\n",
            "Error in 93100th iteration: [43.60055177]\n",
            "Error in 93150th iteration: [43.60055177]\n",
            "Error in 93200th iteration: [43.60055177]\n",
            "Error in 93250th iteration: [43.60055177]\n",
            "Error in 93300th iteration: [43.60055177]\n",
            "Error in 93350th iteration: [43.60055177]\n",
            "Error in 93400th iteration: [43.60055177]\n",
            "Error in 93450th iteration: [43.60055177]\n",
            "Error in 93500th iteration: [43.60055177]\n",
            "Error in 93550th iteration: [43.60055177]\n",
            "Error in 93600th iteration: [43.60055177]\n",
            "Error in 93650th iteration: [43.60055177]\n",
            "Error in 93700th iteration: [43.60055177]\n",
            "Error in 93750th iteration: [43.60055177]\n",
            "Error in 93800th iteration: [43.60055177]\n",
            "Error in 93850th iteration: [43.60055177]\n",
            "Error in 93900th iteration: [43.60055177]\n",
            "Error in 93950th iteration: [43.60055177]\n",
            "Error in 94000th iteration: [43.60055177]\n",
            "Error in 94050th iteration: [43.60055177]\n",
            "Error in 94100th iteration: [43.60055177]\n",
            "Error in 94150th iteration: [43.60055177]\n",
            "Error in 94200th iteration: [43.60055177]\n",
            "Error in 94250th iteration: [43.60055177]\n",
            "Error in 94300th iteration: [43.60055177]\n",
            "Error in 94350th iteration: [43.60055177]\n",
            "Error in 94400th iteration: [43.60055177]\n",
            "Error in 94450th iteration: [43.60055177]\n",
            "Error in 94500th iteration: [43.60055177]\n",
            "Error in 94550th iteration: [43.60055177]\n",
            "Error in 94600th iteration: [43.60055177]\n",
            "Error in 94650th iteration: [43.60055177]\n",
            "Error in 94700th iteration: [43.60055177]\n",
            "Error in 94750th iteration: [43.60055177]\n",
            "Error in 94800th iteration: [43.60055177]\n",
            "Error in 94850th iteration: [43.60055177]\n",
            "Error in 94900th iteration: [43.60055177]\n",
            "Error in 94950th iteration: [43.60055177]\n",
            "Error in 95000th iteration: [43.60055177]\n",
            "Error in 95050th iteration: [43.60055177]\n",
            "Error in 95100th iteration: [43.60055177]\n",
            "Error in 95150th iteration: [43.60055177]\n",
            "Error in 95200th iteration: [43.60055177]\n",
            "Error in 95250th iteration: [43.60055177]\n",
            "Error in 95300th iteration: [43.60055177]\n",
            "Error in 95350th iteration: [43.60055177]\n",
            "Error in 95400th iteration: [43.60055177]\n",
            "Error in 95450th iteration: [43.60055177]\n",
            "Error in 95500th iteration: [43.60055177]\n",
            "Error in 95550th iteration: [43.60055177]\n",
            "Error in 95600th iteration: [43.60055177]\n",
            "Error in 95650th iteration: [43.60055177]\n",
            "Error in 95700th iteration: [43.60055177]\n",
            "Error in 95750th iteration: [43.60055177]\n",
            "Error in 95800th iteration: [43.60055177]\n",
            "Error in 95850th iteration: [43.60055177]\n",
            "Error in 95900th iteration: [43.60055177]\n",
            "Error in 95950th iteration: [43.60055177]\n",
            "Error in 96000th iteration: [43.60055177]\n",
            "Error in 96050th iteration: [43.60055177]\n",
            "Error in 96100th iteration: [43.60055177]\n",
            "Error in 96150th iteration: [43.60055177]\n",
            "Error in 96200th iteration: [43.60055177]\n",
            "Error in 96250th iteration: [43.60055177]\n",
            "Error in 96300th iteration: [43.60055177]\n",
            "Error in 96350th iteration: [43.60055177]\n",
            "Error in 96400th iteration: [43.60055177]\n",
            "Error in 96450th iteration: [43.60055177]\n",
            "Error in 96500th iteration: [43.60055177]\n",
            "Error in 96550th iteration: [43.60055177]\n",
            "Error in 96600th iteration: [43.60055177]\n",
            "Error in 96650th iteration: [43.60055177]\n",
            "Error in 96700th iteration: [43.60055177]\n",
            "Error in 96750th iteration: [43.60055177]\n",
            "Error in 96800th iteration: [43.60055177]\n",
            "Error in 96850th iteration: [43.60055177]\n",
            "Error in 96900th iteration: [43.60055177]\n",
            "Error in 96950th iteration: [43.60055177]\n",
            "Error in 97000th iteration: [43.60055177]\n",
            "Error in 97050th iteration: [43.60055177]\n",
            "Error in 97100th iteration: [43.60055177]\n",
            "Error in 97150th iteration: [43.60055177]\n",
            "Error in 97200th iteration: [43.60055177]\n",
            "Error in 97250th iteration: [43.60055177]\n",
            "Error in 97300th iteration: [43.60055177]\n",
            "Error in 97350th iteration: [43.60055177]\n",
            "Error in 97400th iteration: [43.60055177]\n",
            "Error in 97450th iteration: [43.60055177]\n",
            "Error in 97500th iteration: [43.60055177]\n",
            "Error in 97550th iteration: [43.60055177]\n",
            "Error in 97600th iteration: [43.60055177]\n",
            "Error in 97650th iteration: [43.60055177]\n",
            "Error in 97700th iteration: [43.60055177]\n",
            "Error in 97750th iteration: [43.60055177]\n",
            "Error in 97800th iteration: [43.60055177]\n",
            "Error in 97850th iteration: [43.60055177]\n",
            "Error in 97900th iteration: [43.60055177]\n",
            "Error in 97950th iteration: [43.60055177]\n",
            "Error in 98000th iteration: [43.60055177]\n",
            "Error in 98050th iteration: [43.60055177]\n",
            "Error in 98100th iteration: [43.60055177]\n",
            "Error in 98150th iteration: [43.60055177]\n",
            "Error in 98200th iteration: [43.60055177]\n",
            "Error in 98250th iteration: [43.60055177]\n",
            "Error in 98300th iteration: [43.60055177]\n",
            "Error in 98350th iteration: [43.60055177]\n",
            "Error in 98400th iteration: [43.60055177]\n",
            "Error in 98450th iteration: [43.60055177]\n",
            "Error in 98500th iteration: [43.60055177]\n",
            "Error in 98550th iteration: [43.60055177]\n",
            "Error in 98600th iteration: [43.60055177]\n",
            "Error in 98650th iteration: [43.60055177]\n",
            "Error in 98700th iteration: [43.60055177]\n",
            "Error in 98750th iteration: [43.60055177]\n",
            "Error in 98800th iteration: [43.60055177]\n",
            "Error in 98850th iteration: [43.60055177]\n",
            "Error in 98900th iteration: [43.60055177]\n",
            "Error in 98950th iteration: [43.60055177]\n",
            "Error in 99000th iteration: [43.60055177]\n",
            "Error in 99050th iteration: [43.60055177]\n",
            "Error in 99100th iteration: [43.60055177]\n",
            "Error in 99150th iteration: [43.60055177]\n",
            "Error in 99200th iteration: [43.60055177]\n",
            "Error in 99250th iteration: [43.60055177]\n",
            "Error in 99300th iteration: [43.60055177]\n",
            "Error in 99350th iteration: [43.60055177]\n",
            "Error in 99400th iteration: [43.60055177]\n",
            "Error in 99450th iteration: [43.60055177]\n",
            "Error in 99500th iteration: [43.60055177]\n",
            "Error in 99550th iteration: [43.60055177]\n",
            "Error in 99600th iteration: [43.60055177]\n",
            "Error in 99650th iteration: [43.60055177]\n",
            "Error in 99700th iteration: [43.60055177]\n",
            "Error in 99750th iteration: [43.60055177]\n",
            "Error in 99800th iteration: [43.60055177]\n",
            "Error in 99850th iteration: [43.60055177]\n",
            "Error in 99900th iteration: [43.60055177]\n",
            "Error in 99950th iteration: [43.60055177]\n"
          ],
          "name": "stdout"
        }
      ]
    },
    {
      "cell_type": "code",
      "metadata": {
        "id": "5Le2EymEDFzi",
        "colab_type": "code",
        "colab": {}
      },
      "source": [
        ""
      ],
      "execution_count": 0,
      "outputs": []
    }
  ]
}