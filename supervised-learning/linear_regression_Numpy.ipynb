{
  "nbformat": 4,
  "nbformat_minor": 0,
  "metadata": {
    "colab": {
      "name": "linear-regression-Numpy",
      "provenance": [],
      "collapsed_sections": []
    },
    "kernelspec": {
      "name": "python3",
      "display_name": "Python 3"
    }
  },
  "cells": [
    {
      "cell_type": "markdown",
      "metadata": {
        "id": "PQuQxK-ETS69",
        "colab_type": "text"
      },
      "source": [
        "# Univariate Linear Regression using Numpy"
      ]
    },
    {
      "cell_type": "code",
      "metadata": {
        "id": "wRtgU_sQL_BB",
        "colab_type": "code",
        "colab": {}
      },
      "source": [
        "import numpy as np\n",
        "import pandas as pd\n",
        "import matplotlib.pyplot as plt\n",
        "from sklearn.datasets import load_boston\n",
        "\n",
        "np.random.seed(42)"
      ],
      "execution_count": 0,
      "outputs": []
    },
    {
      "cell_type": "markdown",
      "metadata": {
        "id": "ZdfEQuE8VOhs",
        "colab_type": "text"
      },
      "source": [
        "## Load the dataset"
      ]
    },
    {
      "cell_type": "code",
      "metadata": {
        "id": "_iSI4mFaVXJo",
        "colab_type": "code",
        "colab": {}
      },
      "source": [
        "dataset = load_boston()\n",
        "# print(dataset['DESCR'])"
      ],
      "execution_count": 0,
      "outputs": []
    },
    {
      "cell_type": "code",
      "metadata": {
        "id": "qBIfjM4sMGgp",
        "colab_type": "code",
        "colab": {}
      },
      "source": [
        "features = dataset.data\n",
        "y = dataset.target[:,np.newaxis] \n",
        "\n",
        "# np.newaxis increases the dimension of the existing array which in this\n",
        "# context transforms `y` from a 1-dimensional array to 2-dimensional array"
      ],
      "execution_count": 0,
      "outputs": []
    },
    {
      "cell_type": "markdown",
      "metadata": {
        "id": "G0Vd22vMfUSh",
        "colab_type": "text"
      },
      "source": [
        "## Visualizing the Dataset"
      ]
    },
    {
      "cell_type": "markdown",
      "metadata": {
        "id": "Pk3yqz-6lr4k",
        "colab_type": "text"
      },
      "source": [
        "### RM - average number of rooms per dwelling"
      ]
    },
    {
      "cell_type": "code",
      "metadata": {
        "id": "yp59-LjolpSL",
        "colab_type": "code",
        "outputId": "6dbbed3a-8643-4121-a7cd-4b00f4e3004e",
        "colab": {
          "base_uri": "https://localhost:8080/",
          "height": 283
        }
      },
      "source": [
        "RM = features[:,5] \n",
        "plt.scatter(RM,y)"
      ],
      "execution_count": 4,
      "outputs": [
        {
          "output_type": "execute_result",
          "data": {
            "text/plain": [
              "<matplotlib.collections.PathCollection at 0x7fddf16e6860>"
            ]
          },
          "metadata": {
            "tags": []
          },
          "execution_count": 4
        },
        {
          "output_type": "display_data",
          "data": {
            "image/png": "[encoded data removed]",
            "text/plain": [
              "<Figure size 432x288 with 1 Axes>"
            ]
          },
          "metadata": {
            "tags": [],
            "needs_background": "light"
          }
        }
      ]
    },
    {
      "cell_type": "markdown",
      "metadata": {
        "id": "epgxT74HmOdh",
        "colab_type": "text"
      },
      "source": [
        "### DIS - weighted distances to five Boston employment centres"
      ]
    },
    {
      "cell_type": "code",
      "metadata": {
        "id": "CSR7tPuamYEW",
        "colab_type": "code",
        "outputId": "dd8d464b-4748-4c6e-a3ff-f327cac7deab",
        "colab": {
          "base_uri": "https://localhost:8080/",
          "height": 283
        }
      },
      "source": [
        "DIS = features[:,7] \n",
        "plt.scatter(DIS,y)"
      ],
      "execution_count": 5,
      "outputs": [
        {
          "output_type": "execute_result",
          "data": {
            "text/plain": [
              "<matplotlib.collections.PathCollection at 0x7fddeeeda6a0>"
            ]
          },
          "metadata": {
            "tags": []
          },
          "execution_count": 5
        },
        {
          "output_type": "display_data",
          "data": {
            "image/png": "[encoded data removed]",
            "text/plain": [
              "<Figure size 432x288 with 1 Axes>"
            ]
          },
          "metadata": {
            "tags": [],
            "needs_background": "light"
          }
        }
      ]
    },
    {
      "cell_type": "markdown",
      "metadata": {
        "id": "deC0KA3XdxBg",
        "colab_type": "text"
      },
      "source": [
        "## Modelling\n"
      ]
    },
    {
      "cell_type": "markdown",
      "metadata": {
        "id": "AFGn5qOdCbiy",
        "colab_type": "text"
      },
      "source": [
        "### Hypothesis\n",
        "\n"
      ]
    },
    {
      "cell_type": "markdown",
      "metadata": {
        "id": "G6i3XV5iP6AK",
        "colab_type": "text"
      },
      "source": [
        "**Hypothesis** is a function that takes the input features $X$ and outputs a prediction or an estimated value of $y.$ We used a linear function expressed as \n",
        "\n",
        "$h(x) = \\theta_0 + \\theta_1x$ \n",
        "\n",
        "because we only have one feature to fit a function where $\\theta_0$ is the bias, $\\theta_1$ is the weights, and $x$ is the input features.\n",
        "\n",
        "With knowledge of linear algebra, we can simplify the expression above as \n",
        "\n",
        "$h = X\\cdot\\theta$\n",
        "\n",
        "to use matrix operations."
      ]
    },
    {
      "cell_type": "markdown",
      "metadata": {
        "id": "kEbciaTQUFSr",
        "colab_type": "text"
      },
      "source": [
        "To do so we must create a matrix $X$ where in the first column consists of `np.ones` and the second column consists of the features RM or the average number of rooms per dwelling."
      ]
    },
    {
      "cell_type": "code",
      "metadata": {
        "id": "nI0LFvLTZHsV",
        "colab_type": "code",
        "colab": {}
      },
      "source": [
        "X = np.ones((RM.shape[0],2))\n",
        "X[:,1:] = RM[:,np.newaxis]"
      ],
      "execution_count": 0,
      "outputs": []
    },
    {
      "cell_type": "markdown",
      "metadata": {
        "id": "RGNv1pXeXwKr",
        "colab_type": "text"
      },
      "source": [
        "Now we need to set random values for $\\theta$."
      ]
    },
    {
      "cell_type": "code",
      "metadata": {
        "id": "xc7ld_ULHcEh",
        "colab_type": "code",
        "outputId": "890de272-428d-4eb0-f216-042cbf39bc4a",
        "colab": {
          "base_uri": "https://localhost:8080/",
          "height": 53
        }
      },
      "source": [
        "theta = np.random.randn(2)\n",
        "theta = theta[:,np.newaxis]\n",
        "\n",
        "print(theta)"
      ],
      "execution_count": 7,
      "outputs": [
        {
          "output_type": "stream",
          "text": [
            "[[ 0.49671415]\n",
            " [-0.1382643 ]]\n"
          ],
          "name": "stdout"
        }
      ]
    },
    {
      "cell_type": "code",
      "metadata": {
        "id": "ccwoe6jsai1T",
        "colab_type": "code",
        "outputId": "998727ad-b7db-4b91-8a2b-546fb2f6c038",
        "colab": {
          "base_uri": "https://localhost:8080/",
          "height": 35
        }
      },
      "source": [
        "print(X.shape, theta.shape)"
      ],
      "execution_count": 8,
      "outputs": [
        {
          "output_type": "stream",
          "text": [
            "(506, 2) (2, 1)\n"
          ],
          "name": "stdout"
        }
      ]
    },
    {
      "cell_type": "markdown",
      "metadata": {
        "id": "QmWckVAHX_UK",
        "colab_type": "text"
      },
      "source": [
        "Create the hypothesis function as a method"
      ]
    },
    {
      "cell_type": "code",
      "metadata": {
        "id": "v0iVTX5pXHCU",
        "colab_type": "code",
        "colab": {}
      },
      "source": [
        "def hypothesis(X,theta):\n",
        "  return np.dot(X,theta)"
      ],
      "execution_count": 0,
      "outputs": []
    },
    {
      "cell_type": "markdown",
      "metadata": {
        "id": "oITyIR8Cg3cn",
        "colab_type": "text"
      },
      "source": [
        "### Cost Function"
      ]
    },
    {
      "cell_type": "markdown",
      "metadata": {
        "id": "e_vtlIpYmOUN",
        "colab_type": "text"
      },
      "source": [
        "This function measures the performance of the model. In univariate linear regression, the function is expressed as\n",
        "\n",
        "$ J(\\theta_0,\\theta_1) = \\frac{1}{2m}\\displaystyle\\sum_{i = 1}^{m}(\\hat{y_i}-y_i)^2 $\n",
        "\n",
        "or also known as the Mean Squared Error (MSE).\n",
        "\n",
        "Breaking down the equation:  \n",
        "\n",
        "1.   $\\hat{y} \\longrightarrow$ output of the hypothesis $h(x)$ (purple dots)\n",
        "2.   $y \\longrightarrow$ the labels (point that sits on the line)\n",
        "3.   $(\\hat{y_i}-y_i)^2 \\longrightarrow$ For each point, subtract the hypothesis from the labels and square its result. \n",
        "4.   $\\frac{1}{2m}\\displaystyle\\sum_{i = 1}^{m}(\\hat{y_i}-y_i)^2 \\longrightarrow$ Find the sum for each squared difference and divide it by the total number of examples.\n",
        "\n",
        "\n",
        "\n",
        "\n",
        "\n",
        "\n",
        "\n",
        "![alt text](https://cdn-media-1.freecodecamp.org/images/MNskFmGPKuQfMLdmpkT-X7-8w2cJXulP3683)"
      ]
    },
    {
      "cell_type": "code",
      "metadata": {
        "id": "LnKVFuSSvUx3",
        "colab_type": "code",
        "colab": {}
      },
      "source": [
        "def cost_function(X,y,theta):\n",
        "  return (1 / (2*X.shape[0])) * sum(np.square(hypothesis(X,theta)-y))"
      ],
      "execution_count": 0,
      "outputs": []
    },
    {
      "cell_type": "markdown",
      "metadata": {
        "id": "0EXGFxY6zgE4",
        "colab_type": "text"
      },
      "source": [
        "### Gradient Descent\n",
        "\n",
        "Recall the cost function\n",
        "\n",
        " $ J(\\theta_0,\\theta_1) = \\frac{1}{m}\\displaystyle\\sum_{i = 1}^{m}(y_i-\\hat{y_i})^2 $\n",
        "\n",
        " we need to expand it in order to see what steps must be followed in order to conduct the gradient descent.\n",
        "\n",
        " $ J(\\theta_0,\\theta_1) = \\frac{1}{m}\\displaystyle\\sum_{i = 1}^{m}(y_i-(\\theta_0 + \\theta_1x_i))^2 $\n",
        "\n",
        " To get the partial derivative of both $\\theta_0$ and $\\theta_1$, we use the chain rule.\n",
        "\n",
        " $\\frac{\\partial J}{\\partial \\theta_0} = \\frac{2}{m}\\displaystyle\\sum_{i = 1}^{m}-(y_i-(\\theta_0 + \\theta_1x_i))$\n",
        "\n",
        "  $\\frac{\\partial J}{\\partial \\theta_1} = \\frac{2}{m}\\displaystyle\\sum_{i = 1}^{m}-x\\cdot(y_i-(\\theta_0 + \\theta_1x_i))$"
      ]
    },
    {
      "cell_type": "code",
      "metadata": {
        "id": "KpPygZMRzidm",
        "colab_type": "code",
        "colab": {}
      },
      "source": [
        "# self implementation of gradient descent from scratch\n",
        "def gradient_descent_from_scratch(X,y,theta,alpha,iterations):\n",
        "  for i in range(iterations):\n",
        "\n",
        "    predict_0 = 0\n",
        "    predict_1 = 1\n",
        "    for j in range(len(X)):\n",
        "      predict_0 += ((theta[0] + (theta[1]*X[j][1])) - y[j])\n",
        "      predict_1 += (X[j][1])*((theta[0] + (theta[1]*X[j][1])) - y[j])\n",
        "    temp_0 = theta[0] - alpha * 1/len(X) * predict_0\n",
        "    temp_1 = theta[1] - alpha * 1/len(X) * predict_1\n",
        "\n",
        "    theta[0] = temp_0\n",
        "    theta[1] = temp_1\n",
        "\n",
        "    if i % 100 == 0:\n",
        "      print(f'Error in {i}th iteration: {cost_function(X,y,theta)}')\n",
        "      print(theta[0],theta[1])"
      ],
      "execution_count": 0,
      "outputs": []
    },
    {
      "cell_type": "code",
      "metadata": {
        "id": "4PYFbr-SBpqE",
        "colab_type": "code",
        "outputId": "6ff80158-6b6b-49b1-f854-fd4f982d56fc",
        "colab": {
          "base_uri": "https://localhost:8080/",
          "height": 377
        }
      },
      "source": [
        "iterations = 1000\n",
        "alpha = 0.02\n",
        "gradient_descent_from_scratch(X,y,theta,alpha,iterations)"
      ],
      "execution_count": 12,
      "outputs": [
        {
          "output_type": "stream",
          "text": [
            "Error in 0th iteration: [38.63594478]\n",
            "[0.95481481] [2.83174506]\n",
            "Error in 100th iteration: [29.29498895]\n",
            "[0.20915599] [3.61878302]\n",
            "Error in 200th iteration: [28.94327552]\n",
            "[-0.61910074] [3.74898917]\n",
            "Error in 300th iteration: [28.60807321]\n",
            "[-1.42767541] [3.87610121]\n",
            "Error in 400th iteration: [28.28860675]\n",
            "[-2.21703575] [4.00019266]\n",
            "Error in 500th iteration: [27.98413731]\n",
            "[-2.98763835] [4.12133529]\n",
            "Error in 600th iteration: [27.69396073]\n",
            "[-3.73992895] [4.23959919]\n",
            "Error in 700th iteration: [27.41740593]\n",
            "[-4.4743427] [4.35505275]\n",
            "Error in 800th iteration: [27.15383333]\n",
            "[-5.19130442] [4.46776277]\n",
            "Error in 900th iteration: [26.9026334]\n",
            "[-5.89122882] [4.57779443]\n"
          ],
          "name": "stdout"
        }
      ]
    },
    {
      "cell_type": "code",
      "metadata": {
        "id": "-1uNnkYWT-zm",
        "colab_type": "code",
        "colab": {}
      },
      "source": [
        "# Self implementation of gradient descent via matrix operations\n",
        "def gradient_descent(X,y,theta,alpha,iterations):\n",
        "  for i in range(iterations):\n",
        "    predictions = hypothesis(X,theta)\n",
        "    theta = theta - alpha * (1/X.shape[0]) * X.T.dot((predictions - y))\n",
        "\n",
        "    if i % 100 == 0:\n",
        "      print(f'Error in {i}th iteration: {cost_function(X,y,theta)}')\n",
        "      print(theta[0],theta[1])"
      ],
      "execution_count": 0,
      "outputs": []
    },
    {
      "cell_type": "code",
      "metadata": {
        "id": "Tk9hz2JdY3bz",
        "colab_type": "code",
        "outputId": "893efdf7-3517-4413-c304-c51b7365933b",
        "colab": {
          "base_uri": "https://localhost:8080/",
          "height": 377
        }
      },
      "source": [
        "np.random.seed(42)\n",
        "theta = np.random.randn(2)\n",
        "theta = theta[:,np.newaxis]\n",
        "iterations = 1000\n",
        "alpha = 0.02\n",
        "gradient_descent(X,y,theta,alpha,iterations)"
      ],
      "execution_count": 14,
      "outputs": [
        {
          "output_type": "stream",
          "text": [
            "Error in 0th iteration: [38.63488335]\n",
            "[0.95481481] [2.83178458]\n",
            "Error in 100th iteration: [29.29472885]\n",
            "[0.20855825] [3.61892521]\n",
            "Error in 200th iteration: [28.94277624]\n",
            "[-0.62028331] [3.74922331]\n",
            "Error in 300th iteration: [28.60735195]\n",
            "[-1.42942892] [3.8764251]\n",
            "Error in 400th iteration: [28.28767977]\n",
            "[-2.21934663] [4.00060417]\n",
            "Error in 500th iteration: [27.98301995]\n",
            "[-2.99049336] [4.12183234]\n",
            "Error in 600th iteration: [27.69266749]\n",
            "[-3.74331515] [4.24017975]\n",
            "Error in 700th iteration: [27.41595049]\n",
            "[-4.47824748] [4.35571483]\n",
            "Error in 800th iteration: [27.1522286]\n",
            "[-5.19571545] [4.46850444]\n",
            "Error in 900th iteration: [26.90089155]\n",
            "[-5.89613407] [4.57861379]\n"
          ],
          "name": "stdout"
        }
      ]
    },
    {
      "cell_type": "code",
      "metadata": {
        "id": "GugsN4lkZ3Pf",
        "colab_type": "code",
        "colab": {}
      },
      "source": [
        "# This implementation was suggested by Robert\n",
        "def gradient_descent_vector(X,y,theta,alpha,iterations):\n",
        "  X = X[:,1]\n",
        "  X = X[:,np.newaxis]\n",
        "\n",
        "  weights = theta[1]\n",
        "  weights = weights[:,np.newaxis]\n",
        "  weights\n",
        "\n",
        "  bias = theta[0]\n",
        "  bias = bias[:,np.newaxis]\n",
        "  bias\n",
        "  for i in range(iterations):\n",
        "    y_predictions = np.dot(X,weights) + bias\n",
        "\n",
        "    dw = (1 / len(X)) * np.dot(X.T, (y_predictions - y))\n",
        "    db = (1 / len(X)) * sum((y_predictions - y))\n",
        "\n",
        "    weights -= alpha * dw\n",
        "    bias -= alpha * db\n",
        "\n",
        "    theta[1] = weights\n",
        "    theta[0] = bias\n",
        "\n",
        "    if i % 100 == 0:\n",
        "      cost = (1 / (2*len(X))) * sum(np.square((np.dot(X,weights) + bias)-y))\n",
        "      print(f'Error in {i}th iteration: {cost}')\n",
        "      print(theta[0],theta[1])\n"
      ],
      "execution_count": 0,
      "outputs": []
    },
    {
      "cell_type": "code",
      "metadata": {
        "id": "PTAdACCRbVV_",
        "colab_type": "code",
        "colab": {
          "base_uri": "https://localhost:8080/",
          "height": 377
        },
        "outputId": "20fa25e7-7451-4b12-d87a-ae008aaa29fc"
      },
      "source": [
        "np.random.seed(42)\n",
        "theta = np.random.randn(2)\n",
        "theta = theta[:,np.newaxis]\n",
        "iterations = 1000\n",
        "alpha = 0.02\n",
        "gradient_descent_vector(X,y,theta,alpha,iterations)"
      ],
      "execution_count": 21,
      "outputs": [
        {
          "output_type": "stream",
          "text": [
            "Error in 0th iteration: [38.63488335]\n",
            "[0.95481481] [2.83178458]\n",
            "Error in 100th iteration: [29.29472885]\n",
            "[0.20855825] [3.61892521]\n",
            "Error in 200th iteration: [28.94277624]\n",
            "[-0.62028331] [3.74922331]\n",
            "Error in 300th iteration: [28.60735195]\n",
            "[-1.42942892] [3.8764251]\n",
            "Error in 400th iteration: [28.28767977]\n",
            "[-2.21934663] [4.00060417]\n",
            "Error in 500th iteration: [27.98301995]\n",
            "[-2.99049336] [4.12183234]\n",
            "Error in 600th iteration: [27.69266749]\n",
            "[-3.74331515] [4.24017975]\n",
            "Error in 700th iteration: [27.41595049]\n",
            "[-4.47824748] [4.35571483]\n",
            "Error in 800th iteration: [27.1522286]\n",
            "[-5.19571545] [4.46850444]\n",
            "Error in 900th iteration: [26.90089155]\n",
            "[-5.89613407] [4.57861379]\n"
          ],
          "name": "stdout"
        }
      ]
    },
    {
      "cell_type": "code",
      "metadata": {
        "id": "A0_2X2nTbias",
        "colab_type": "code",
        "colab": {}
      },
      "source": [
        ""
      ],
      "execution_count": 0,
      "outputs": []
    }
  ]
}